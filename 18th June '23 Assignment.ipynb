{
 "cells": [
  {
   "cell_type": "raw",
   "id": "e190f3f3",
   "metadata": {},
   "source": [
    "1.What is the role of the 'else' block in a try-except statement? Provide an example\n",
    "scenario where it would be useful.\n",
    "Ans.1.\n",
    "In a try-except statement, the 'else' block is an optional part that can be included after the 'try' and 'except' blocks. It is executed only if no exception is raised in the 'try' block. The purpose of the 'else' block is to define a section of code that should run when no exceptions occur.\n",
    "\n",
    "Here's an example scenario where the 'else' block in a try-except statement can be useful:"
   ]
  },
  {
   "cell_type": "code",
   "execution_count": 1,
   "id": "edf0f811",
   "metadata": {},
   "outputs": [
    {
     "name": "stdout",
     "output_type": "stream",
     "text": [
      "Enter the numerator: 45\n",
      "Enter the denominator: 15\n",
      "The division result is: 3.0\n"
     ]
    }
   ],
   "source": [
    "try:\n",
    "    numerator = int(input(\"Enter the numerator: \"))\n",
    "    denominator = int(input(\"Enter the denominator: \"))\n",
    "    result = numerator / denominator\n",
    "except ZeroDivisionError:\n",
    "    print(\"Cannot divide by zero.\")\n",
    "else:\n",
    "    print(\"The division result is:\", result)\n"
   ]
  },
  {
   "cell_type": "code",
   "execution_count": null,
   "id": "6654af11",
   "metadata": {},
   "outputs": [],
   "source": []
  },
  {
   "cell_type": "raw",
   "id": "0fa89271",
   "metadata": {},
   "source": [
    "2.Can a try-except block be nested inside another try-except block? Explain with an\n",
    "example.\n",
    "Ans.2.\n",
    "We can have nested try-except blocks in Python. In this case, if an exception is raised in the nested try block, the nested except block is used to handle it. In case the nested except is not able to handle it, the outer except blocks are used to handle the exception."
   ]
  },
  {
   "cell_type": "code",
   "execution_count": 2,
   "id": "770c1ece",
   "metadata": {},
   "outputs": [
    {
     "name": "stdout",
     "output_type": "stream",
     "text": [
      "outer try block\n",
      "Inner try block\n",
      "outer except block\n"
     ]
    }
   ],
   "source": [
    "try:\n",
    "    print(\"outer try block\")\n",
    "    try:\n",
    "        print(\"Inner try block\")\n",
    "        print(10/0)\n",
    "    except ValueError:\n",
    "        print(\"Inner except block\")\n",
    "except ZeroDivisionError:\n",
    "    print(\"outer except block\")"
   ]
  },
  {
   "cell_type": "code",
   "execution_count": null,
   "id": "456b885c",
   "metadata": {},
   "outputs": [],
   "source": []
  },
  {
   "cell_type": "raw",
   "id": "cf08f8b3",
   "metadata": {},
   "source": [
    "3.How can you create a custom exception class in Python? Provide an example that\n",
    "demonstrates its usage.\n",
    "Ans.3.\n",
    "In Python, you can create a custom exception class by defining a new class that inherits from the built-in Exception class or any of its subclasses. By creating a custom exception class, you can define your own types of exceptions to handle specific error conditions in your code.\n",
    "\n",
    "Here's an example that demonstrates the creation and usage of a custom exception class:"
   ]
  },
  {
   "cell_type": "code",
   "execution_count": 18,
   "id": "d6907230",
   "metadata": {},
   "outputs": [],
   "source": [
    "class custom_error(Exception):\n",
    "    pass\n",
    "    \n",
    "def Divide(num1, num2):\n",
    "    if num2 == 0:\n",
    "        raise custom_error\n",
    "    return num1/num2"
   ]
  },
  {
   "cell_type": "code",
   "execution_count": 19,
   "id": "c6bc9017",
   "metadata": {},
   "outputs": [
    {
     "name": "stdout",
     "output_type": "stream",
     "text": [
      "Cannot divide by zero\n"
     ]
    }
   ],
   "source": [
    "try:\n",
    "    print(Divide(15,0))\n",
    "    \n",
    "except custom_error:\n",
    "    print('Cannot divide by zero')"
   ]
  },
  {
   "cell_type": "code",
   "execution_count": null,
   "id": "79417497",
   "metadata": {},
   "outputs": [],
   "source": []
  },
  {
   "cell_type": "raw",
   "id": "67a10c2b",
   "metadata": {},
   "source": [
    "4.What are some common exceptions that are built-in to Python?\n",
    "Ans.4.\n",
    "\n",
    "Python provides several built-in exceptions that cover a wide range of common error conditions. Here are some commonly used built-in exceptions in Python:\n",
    "\n",
    "1.Exception: The base class for all exceptions. It is typically not raised directly but serves as a superclass for more specific exceptions.\n",
    "\n",
    "2.TypeError: Raised when an operation or function is performed on an object of an inappropriate type.\n",
    "\n",
    "3.ValueError: Raised when a function receives an argument of the correct type but an invalid value.\n",
    "\n",
    "4.NameError: Raised when a local or global name is not found.\n",
    "\n",
    "5.FileNotFoundError: Raised when an attempt to open a file fails because the file cannot be found.\n",
    "\n",
    "6.IndexError: Raised when a sequence subscript is out of range.\n",
    "\n",
    "7.KeyError: Raised when a dictionary key is not found.\n",
    "\n",
    "8.ZeroDivisionError: Raised when division or modulo operation is performed with a zero divisor.\n",
    "\n",
    "9.OverflowError: Raised when the result of an arithmetic operation is too large to be expressed within the available range.\n",
    "\n",
    "10.IOError: Raised when an input/output operation fails.\n",
    "\n",
    "11.AttributeError: Raised when an attribute reference or assignment fails.\n",
    "\n",
    "12.ImportError: Raised when an import statement fails to import a module."
   ]
  },
  {
   "cell_type": "code",
   "execution_count": null,
   "id": "781a63e2",
   "metadata": {},
   "outputs": [],
   "source": []
  },
  {
   "cell_type": "raw",
   "id": "78ef72ec",
   "metadata": {},
   "source": [
    "5.What is logging in Python, and why is it important in software development?\n",
    "Ans.5.\n",
    "Logging in Python refers to the process of recording events, messages, and other relevant information during the execution of a program. The logging module in Python provides a flexible and powerful framework for generating log records and managing logging behavior.\n",
    "\n",
    "Logging is crucial in software development for the following reasons:\n",
    "\n",
    "1.Debugging and Troubleshooting: Logging helps in identifying and diagnosing issues during development and in production. By logging informative messages, you can track the flow of your program, log variable values, and capture error conditions, making it easier to locate and fix bugs.\n",
    "\n",
    "2.Error and Exception Tracking: By logging error messages and exceptions, you can capture details about what went wrong, including stack traces, specific error messages, and relevant contextual information. This aids in understanding the cause of failures and enables effective debugging.\n",
    "\n",
    "3.Monitoring and Performance Analysis: Logging allows you to monitor the behavior and performance of your software in different scenarios. By logging performance metrics, timestamps, and relevant statistics, you can analyze the behavior of your application under various conditions and optimize its performance.\n",
    "\n",
    "The logging module in Python offers flexible configuration options, multiple logging levels, and the ability to write log records to various destinations like files, consoles, or remote servers. It allows developers to control the verbosity and granularity of logs based on the application's needs, making it an essential tool for software development, debugging, and monitoring."
   ]
  },
  {
   "cell_type": "code",
   "execution_count": null,
   "id": "aed6a343",
   "metadata": {},
   "outputs": [],
   "source": []
  },
  {
   "cell_type": "raw",
   "id": "05795a49",
   "metadata": {},
   "source": [
    "6.Explain the purpose of log levels in Python logging and provide examples of when\n",
    "each log level would be appropriate.\n",
    "Ans.6.\n",
    "Log levels in Python logging allow you to categorize and prioritize log messages based on their severity or importance. They provide a way to filter and control the verbosity of log output. The logging module in Python defines several built-in log levels, each serving a specific purpose. Here are the commonly used log levels and examples of when each level would be appropriate:\n",
    "\n",
    "1.DEBUG: The lowest level of log messages, used for detailed information during development and debugging. These messages are typically used to track the flow of the program and log variable values. Example usage:"
   ]
  },
  {
   "cell_type": "code",
   "execution_count": 25,
   "id": "2920c5d4",
   "metadata": {},
   "outputs": [
    {
     "name": "stderr",
     "output_type": "stream",
     "text": [
      "DEBUG:root:Variables are 10 and 30\n"
     ]
    },
    {
     "data": {
      "text/plain": [
       "40"
      ]
     },
     "execution_count": 25,
     "metadata": {},
     "output_type": "execute_result"
    }
   ],
   "source": [
    "import logging\n",
    "\n",
    "logging.basicConfig(level=logging.DEBUG)\n",
    "\n",
    "def add(x, y):\n",
    "    logging.debug('Variables are %s and %s', x, y)\n",
    "    return x + y\n",
    "\n",
    "add(10, 30)\n"
   ]
  },
  {
   "cell_type": "raw",
   "id": "44633e3c",
   "metadata": {},
   "source": [
    "2.INFO: Used for informational messages that signify the normal execution of the program. It provides high-level information about the program's state or important events. Example usage:"
   ]
  },
  {
   "cell_type": "code",
   "execution_count": 26,
   "id": "666079bd",
   "metadata": {},
   "outputs": [
    {
     "name": "stderr",
     "output_type": "stream",
     "text": [
      "INFO:root:User Admin User logged in\n"
     ]
    }
   ],
   "source": [
    "import logging\n",
    "\n",
    "logging.basicConfig(level=logging.INFO)\n",
    "\n",
    "def login(user):\n",
    "    logging.info('User %s logged in', user)\n",
    "\n",
    "login('Admin User')\n"
   ]
  },
  {
   "cell_type": "raw",
   "id": "3385e101",
   "metadata": {},
   "source": [
    "3.WARNING: Used for indicating potential issues or unexpected behavior that does not prevent the program from continuing. It highlights conditions that could be problematic in the future. Example usage:"
   ]
  },
  {
   "cell_type": "code",
   "execution_count": 27,
   "id": "6519626e",
   "metadata": {},
   "outputs": [
    {
     "name": "stderr",
     "output_type": "stream",
     "text": [
      "WARNING:root:Sorry you have Low balance: 1000\n"
     ]
    }
   ],
   "source": [
    "import logging\n",
    "\n",
    "logging.basicConfig(level=logging.WARNING)\n",
    "\n",
    "def MyBalance(amount):\n",
    "    if amount < 10000:\n",
    "        logging.warning('Sorry you have Low balance: %s', amount)\n",
    "\n",
    "MyBalance(1000)\n"
   ]
  },
  {
   "cell_type": "raw",
   "id": "75e95d99",
   "metadata": {},
   "source": [
    "4.ERROR: Used for reporting errors that caused a specific operation to fail but do not necessarily terminate the entire program. It indicates recoverable errors that may require attention. Example usage:"
   ]
  },
  {
   "cell_type": "code",
   "execution_count": 23,
   "id": "eae552a4",
   "metadata": {},
   "outputs": [
    {
     "name": "stderr",
     "output_type": "stream",
     "text": [
      "ERROR:root:You are trying to divide by zero, which is not allowed\n"
     ]
    }
   ],
   "source": [
    "import logging\n",
    "\n",
    "logging.basicConfig(level=logging.ERROR)\n",
    "\n",
    "def LetUsDivide(n, d):\n",
    "    try:\n",
    "        result = n / d\n",
    "    except ZeroDivisionError:\n",
    "        logging.error('You are trying to divide by zero, which is not allowed')\n",
    "    else:\n",
    "        return result\n",
    "\n",
    "LetUsDivide(4, 0)\n"
   ]
  },
  {
   "cell_type": "raw",
   "id": "b94de5d5",
   "metadata": {},
   "source": [
    "5.CRITICAL: The highest level of severity, used for critical errors that may lead to the termination of the program or result in system-level failures. It indicates a severe issue that requires immediate attention. Example usage:"
   ]
  },
  {
   "cell_type": "code",
   "execution_count": 24,
   "id": "fcd8cc5d",
   "metadata": {},
   "outputs": [
    {
     "name": "stderr",
     "output_type": "stream",
     "text": [
      "CRITICAL:root:System failure: You need to handle the issue now\n"
     ]
    }
   ],
   "source": [
    "import logging\n",
    "\n",
    "logging.basicConfig(level=logging.CRITICAL)\n",
    "\n",
    "def LetUsCheckSystem(sys):\n",
    "    if sys != 'OK':\n",
    "        logging.critical('System failure: %s', sys)\n",
    "\n",
    "LetUsCheckSystem('You need to handle the issue now')"
   ]
  },
  {
   "cell_type": "code",
   "execution_count": null,
   "id": "20a45d9a",
   "metadata": {},
   "outputs": [],
   "source": []
  },
  {
   "cell_type": "raw",
   "id": "43cf96ae",
   "metadata": {},
   "source": [
    "7.What are log formatters in Python logging, and how can you customise the log\n",
    "  message format using formatters?\n",
    "Ans.7.\n",
    "Log formatters in Python logging are used to define the structure and content of log messages. They determine how the log records are formatted before being outputted to the desired destination, such as a file or the console. The logging module in Python provides a 'Formatter' class that allows you to customize the log message format according to your needs.\n",
    "\n",
    "To customize the log message format using formatters, you can follow these steps:\n",
    "\n",
    "1.Create an instance of the Formatter class, specifying the desired log message format using a formatting string. The formatting string can include placeholders for various attributes of the log record, such as the log level, timestamp, message, etc."
   ]
  },
  {
   "cell_type": "code",
   "execution_count": 28,
   "id": "61ad14c5",
   "metadata": {},
   "outputs": [],
   "source": [
    "import logging\n",
    "\n",
    "formatter = logging.Formatter('%(asctime)s - %(levelname)s - %(message)s')\n"
   ]
  },
  {
   "cell_type": "raw",
   "id": "b0ca95b7",
   "metadata": {},
   "source": [
    "2.Configure the formatter for your desired logger or handler. You can set the formatter using the setFormatter() method of the logger or handler object."
   ]
  },
  {
   "cell_type": "code",
   "execution_count": 31,
   "id": "f6505689",
   "metadata": {},
   "outputs": [],
   "source": [
    "import logging\n",
    "\n",
    "logger = logging.getLogger('my_logger')\n",
    "handler = logging.StreamHandler()\n",
    "handler.setFormatter(formatter)\n",
    "logger.addHandler(handler)\n"
   ]
  },
  {
   "cell_type": "raw",
   "id": "8f28a8f5",
   "metadata": {},
   "source": [
    "3.Optionally, you can customize the attributes included in the log message format by modifying the formatting string. Some commonly used attributes include:\n",
    "\n",
    "%(asctime)s: The timestamp of the log record.\n",
    "%(levelname)s: The log level name (e.g., INFO, WARNING, ERROR).\n",
    "%(message)s: The log message.\n",
    "%(name)s: The name of the logger.\n",
    "%(module)s: The name of the module where the log record originated.\n",
    "%(filename)s: The name of the file where the log record originated.\n",
    "\n",
    "You can combine these attributes and include additional text or formatting elements in the formatting string to create the desired log message format.\n",
    "\n",
    "Here's an example that demonstrates customizing the log message format using a formatter:"
   ]
  },
  {
   "cell_type": "code",
   "execution_count": 1,
   "id": "8f81e131",
   "metadata": {},
   "outputs": [
    {
     "name": "stderr",
     "output_type": "stream",
     "text": [
      "2023-07-17 11:02:21,164 - WARNING - This is a warning message.\n"
     ]
    }
   ],
   "source": [
    "import logging\n",
    "\n",
    "formatter = logging.Formatter('%(asctime)s - %(levelname)s - %(message)s')\n",
    "\n",
    "logger = logging.getLogger()\n",
    "handler = logging.StreamHandler()\n",
    "handler.setFormatter(formatter)\n",
    "logger.addHandler(handler)\n",
    "\n",
    "logger.warning('This is a warning message.')"
   ]
  },
  {
   "cell_type": "code",
   "execution_count": null,
   "id": "aacc088d",
   "metadata": {},
   "outputs": [],
   "source": []
  },
  {
   "cell_type": "raw",
   "id": "5717d178",
   "metadata": {},
   "source": [
    "8.How can you set up logging to capture log messages from multiple modules or\n",
    "  classes in a Python application?\n",
    "Ans.8.\n",
    "To capture log messages from multiple modules or classes in a Python application, you can set up logging using the logging module and configure it appropriately. Here's how you can achieve this:\n",
    "\n",
    "1.Import the logging module."
   ]
  },
  {
   "cell_type": "code",
   "execution_count": null,
   "id": "6656f1da",
   "metadata": {},
   "outputs": [],
   "source": [
    "import logging"
   ]
  },
  {
   "cell_type": "raw",
   "id": "0f915367",
   "metadata": {},
   "source": [
    "2.Configure the logging settings, such as the log level and output destination. This can be done at the start of your application or in a separate configuration file."
   ]
  },
  {
   "cell_type": "code",
   "execution_count": null,
   "id": "03fd1816",
   "metadata": {},
   "outputs": [],
   "source": [
    "logging.basicConfig(level=logging.DEBUG, filename='application.log', filemode='w')"
   ]
  },
  {
   "cell_type": "raw",
   "id": "9399b144",
   "metadata": {},
   "source": [
    "In this example, we set the log level to DEBUG, which captures log messages of all levels (DEBUG, INFO, WARNING, ERROR, CRITICAL). We also specify a filename ('application.log') to which the log records will be written, and set the filemode to 'w' to overwrite the file each time the application runs. Adjust the log level and output settings according to your requirements."
   ]
  },
  {
   "cell_type": "raw",
   "id": "2d845415",
   "metadata": {},
   "source": [
    "3.Define loggers in each module or class from which you want to capture log messages."
   ]
  },
  {
   "cell_type": "code",
   "execution_count": null,
   "id": "802f37e1",
   "metadata": {},
   "outputs": [],
   "source": [
    "import logging\n",
    "\n",
    "logger = logging.getLogger(__name__)\n"
   ]
  },
  {
   "cell_type": "raw",
   "id": "9c5e3cd4",
   "metadata": {},
   "source": [
    "By using the __name__ attribute, the logger is named after the module or class it belongs to. This helps in identifying the source of the log messages."
   ]
  },
  {
   "cell_type": "raw",
   "id": "d0b96421",
   "metadata": {},
   "source": [
    "4.Log messages from different modules or classes using the respective loggers."
   ]
  },
  {
   "cell_type": "code",
   "execution_count": 2,
   "id": "e5d2d158",
   "metadata": {},
   "outputs": [
    {
     "name": "stderr",
     "output_type": "stream",
     "text": [
      "2023-07-17 11:02:59,253 - ERROR - Error message from module2\n"
     ]
    }
   ],
   "source": [
    "import logging\n",
    "\n",
    "logger1 = logging.getLogger('module1')\n",
    "logger2 = logging.getLogger('module2')\n",
    "\n",
    "logger1.debug('Debug message from module1')\n",
    "logger2.error('Error message from module2')"
   ]
  },
  {
   "cell_type": "code",
   "execution_count": null,
   "id": "fdf8c001",
   "metadata": {},
   "outputs": [],
   "source": []
  },
  {
   "cell_type": "raw",
   "id": "49263497",
   "metadata": {},
   "source": [
    "9.What is the difference between the logging and print statements in Python? When should you use logging over print statements in a real-world application?\n",
    "Ans.9.\n",
    "The logging and print statements in Python serve different purposes and have distinct characteristics.The primary purpose of the print statement is to display output directly to the standard output (typically the console). On the other hand, the logging module allows you to redirect log messages to different destinations such as files, network streams, or external log management systems. Logging provides more flexibility in handling and directing log output to various locations.\n",
    "\n",
    "In a real-world application, logging is often preferred over print statements due to its flexibility, configurability, and control over log output. Logging allows for better separation of concerns, making it easier to manage and maintain code. It also helps in identifying and diagnosing issues during development and in production, as logs provide a historical record of events and can be used for monitoring, analysis, and auditing purposes.\n",
    "\n",
    "While print statements may be useful for quick debugging or ad hoc output during development, logging is a more robust and scalable approach for generating and managing log messages in a real-world application. It offers better control, flexibility, and maintainability, making it the preferred choice for production-grade software."
   ]
  },
  {
   "cell_type": "code",
   "execution_count": null,
   "id": "f9e61bf3",
   "metadata": {},
   "outputs": [],
   "source": []
  },
  {
   "cell_type": "raw",
   "id": "36474387",
   "metadata": {},
   "source": [
    "10. Write a Python program that logs a message to a file named \"app.log\" with the\n",
    "following requirements:\n",
    "● The log message should be \"Hello, World!\"\n",
    "● The log level should be set to \"INFO.\"\n",
    "● The log file should append new log entries without overwriting previous ones."
   ]
  },
  {
   "cell_type": "code",
   "execution_count": 3,
   "id": "db893475",
   "metadata": {},
   "outputs": [],
   "source": [
    "import logging\n",
    "\n",
    "# Configure the logging settings\n",
    "logging.basicConfig(filename = 'app.log' , filemode = 'a', level = logging.INFO)\n",
    "\n",
    "# Log the message\n",
    "logging.info('Hello World')"
   ]
  },
  {
   "cell_type": "code",
   "execution_count": null,
   "id": "5f878f60",
   "metadata": {},
   "outputs": [],
   "source": []
  },
  {
   "cell_type": "raw",
   "id": "5f314169",
   "metadata": {},
   "source": [
    "11.Create a Python program that logs an error message to the console and a file named\n",
    "  \"errors.log\" if an exception occurs during the program's execution. The error\n",
    "   message should include the exception type and a timestamp."
   ]
  },
  {
   "cell_type": "code",
   "execution_count": 4,
   "id": "72ea71db",
   "metadata": {},
   "outputs": [
    {
     "name": "stderr",
     "output_type": "stream",
     "text": [
      "2023-07-17 11:03:23,994 - ERROR - ZeroDivisionError occurred at 2023-07-17 11:03:23.994894\n",
      "Traceback (most recent call last):\n",
      "  File \"C:\\Users\\02rup\\AppData\\Local\\Temp\\ipykernel_101244\\2373106082.py\", line 10, in <module>\n",
      "    x = 10 / 0  # Division by zero to trigger an exception\n",
      "ZeroDivisionError: division by zero\n"
     ]
    },
    {
     "name": "stdout",
     "output_type": "stream",
     "text": [
      "Exception occurred. Check the error log for details.\n"
     ]
    }
   ],
   "source": [
    "import logging\n",
    "import datetime\n",
    "\n",
    "# Configure the logging settings\n",
    "logging.basicConfig(filename='errors.log', filemode='a', level=logging.ERROR,\n",
    "                    format='%(asctime)s - %(levelname)s - %(message)s')\n",
    "\n",
    "try:\n",
    "    # Code that may raise an exception\n",
    "    x = 10 / 0  # Division by zero to trigger an exception\n",
    "except Exception as e:\n",
    "    # Log the exception with timestamp\n",
    "    error_msg = f\"{type(e).__name__} occurred at {datetime.datetime.now()}\"\n",
    "    logging.error(error_msg, exc_info=True)\n",
    "    print(\"Exception occurred. Check the error log for details.\")"
   ]
  },
  {
   "cell_type": "raw",
   "id": "3639366b",
   "metadata": {},
   "source": [
    "Inside the except block, the exception is logged using the logging.error() method. The error message includes the exception type (type(e).__name__) and the current timestamp (datetime.datetime.now()). The exc_info=True parameter ensures that the traceback information for the exception is also included in the log message."
   ]
  }
 ],
 "metadata": {
  "kernelspec": {
   "display_name": "Python 3 (ipykernel)",
   "language": "python",
   "name": "python3"
  },
  "language_info": {
   "codemirror_mode": {
    "name": "ipython",
    "version": 3
   },
   "file_extension": ".py",
   "mimetype": "text/x-python",
   "name": "python",
   "nbconvert_exporter": "python",
   "pygments_lexer": "ipython3",
   "version": "3.10.9"
  }
 },
 "nbformat": 4,
 "nbformat_minor": 5
}
