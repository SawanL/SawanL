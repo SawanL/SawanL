{
 "cells": [
  {
   "cell_type": "raw",
   "id": "1eb6907e",
   "metadata": {},
   "source": [
    "1.Explain what inheritance is in object-oriented programming and why it is used. \n",
    "Ans1.\n",
    "Inheritance is a fundamental concept in object-oriented programming (OOP) that allows you to define a new class based on an existing class. The new class, known as the \"derived\" or \"child\" class, inherits the properties and behaviors (methods) of the existing class, known as the \"base\" or \"parent\" class. Inheritance establishes an \"is-a\" relationship between classes, where the derived class is a specialized version of the base class.\n",
    "\n",
    "Inheritance is used in object-oriented programming for several reasons:\n",
    "\n",
    "a.It provides the reusability of a code. We don’t have to write the same code again and again. Also, it allows us to add more features to a class without modifying it.\n",
    "\n",
    "b.It is transitive in nature, which means that if class B inherits from another class A, then all the subclasses of B would automatically inherit from class A.\n",
    "\n",
    "c.Inheritance offers a simple, understandable model structure.\n",
    "\n",
    "d.Less development and maintenance expenses result from an inheritance. \n",
    "\n",
    "The syntax of simple inheritance in Python is as follows:\n",
    "\n",
    "Class BaseClass:\n",
    "    {Body}\n",
    "Class DerivedClass(BaseClass):\n",
    "    {Body}"
   ]
  },
  {
   "cell_type": "code",
   "execution_count": null,
   "id": "c7897acd",
   "metadata": {},
   "outputs": [],
   "source": []
  },
  {
   "cell_type": "raw",
   "id": "23646358",
   "metadata": {},
   "source": [
    "2.Discuss the concept of single inheritance and multiple inheritance, highlighting their\n",
    "differences and advantages.\n",
    "Ans2.\n",
    "In Python, inheritance can be classified into two main types: single inheritance and multiple inheritance. Let's discuss each type and highlight their differences and advantages:\n",
    "\n",
    "Single Inheritance:\n",
    "Single inheritance is the concept where a derived class inherits from a single base class. It allows the derived class to inherit the attributes and methods of a single parent class. In Python, you can define a single inheritance relationship using the following syntax:"
   ]
  },
  {
   "cell_type": "code",
   "execution_count": null,
   "id": "3f6030a7",
   "metadata": {},
   "outputs": [],
   "source": [
    "class DerivedClass(BaseClass):\n",
    "    # Class definition"
   ]
  },
  {
   "cell_type": "raw",
   "id": "f80023f3",
   "metadata": {},
   "source": [
    "Advantages of Single Inheritance:\n",
    "\n",
    "a.Simplicity: Single inheritance keeps the class hierarchy simpler and easier to understand. It follows a linear structure with each derived class having only one base class.\n",
    "\n",
    "b.Code Organization: Single inheritance promotes better code organization and modularity. Each derived class represents a specialized version of the base class, making it easier to locate and manage specific functionalities."
   ]
  },
  {
   "cell_type": "raw",
   "id": "6517467b",
   "metadata": {},
   "source": [
    "Multiple Inheritance:\n",
    "Multiple inheritance is the concept where a derived class can inherit attributes and methods from multiple base classes. It allows a class to inherit from two or more parent classes. In Python, you can define multiple inheritance using the following syntax:"
   ]
  },
  {
   "cell_type": "code",
   "execution_count": null,
   "id": "90fe6cb3",
   "metadata": {},
   "outputs": [],
   "source": [
    "class DerivedClass(BaseClass1, BaseClass2, ...):\n",
    "    # Class definition"
   ]
  },
  {
   "cell_type": "raw",
   "id": "d1b7c3bc",
   "metadata": {},
   "source": [
    "Advantages of Multiple Inheritance:\n",
    "\n",
    "a.Code Reusability: Multiple inheritance provides a way to combine functionalities from different parent classes. It allows you to reuse code from multiple sources, promoting code reusability and reducing duplication.\n",
    "\n",
    "b.Flexibility: With multiple inheritance, a derived class can inherit attributes and methods from different base classes, enabling it to have a diverse set of functionalities. It provides greater flexibility in designing classes that can combine different behaviors and traits."
   ]
  },
  {
   "cell_type": "raw",
   "id": "7eea86b4",
   "metadata": {},
   "source": [
    "In Python, both single inheritance and multiple inheritance have their advantages and use cases. Single inheritance offers simplicity and a straightforward class hierarchy, while multiple inheritance provides more flexibility and code reuse opportunities. The choice between the two depends on the specific requirements and complexity of the problem domain."
   ]
  },
  {
   "cell_type": "code",
   "execution_count": null,
   "id": "d459727e",
   "metadata": {},
   "outputs": [],
   "source": []
  },
  {
   "cell_type": "raw",
   "id": "6d28427b",
   "metadata": {},
   "source": [
    "3.Explain the terms \"base class\" and \"derived class\" in the context of inheritance.\n",
    "Ans3.\n",
    "Base Class:\n",
    "A base class, also known as a parent class or superclass, is the class from which other classes inherit properties and behaviors. It serves as a blueprint or template for creating derived classes. The base class encapsulates common attributes and methods that can be shared among multiple derived classes.\n",
    "Here's an example of a base class in Python:"
   ]
  },
  {
   "cell_type": "code",
   "execution_count": null,
   "id": "7e46d3f8",
   "metadata": {},
   "outputs": [],
   "source": [
    "class Animal:\n",
    "    def __init__(self, name):\n",
    "        self.name = name\n",
    "    \n",
    "    def eat(self):\n",
    "        print(\"The animal is eating.\")"
   ]
  },
  {
   "cell_type": "raw",
   "id": "ffa2e71f",
   "metadata": {},
   "source": [
    "In the above code, Animal is a base class that defines an __init__ method and an eat method. Other classes can inherit these attributes and methods from the Animal class."
   ]
  },
  {
   "cell_type": "raw",
   "id": "16fedb94",
   "metadata": {},
   "source": [
    "Derived Class:\n",
    "A derived class, also known as a child class or subclass, is a class that inherits properties and behaviors from a base class. It extends or specializes the functionality of the base class by adding its own attributes and methods or by overriding the inherited ones.\n",
    "To create a derived class in Python, you specify the base class in the class definition using parentheses:"
   ]
  },
  {
   "cell_type": "code",
   "execution_count": null,
   "id": "13d8999d",
   "metadata": {},
   "outputs": [],
   "source": [
    "class Dog(Animal):\n",
    "    def bark(self):\n",
    "        print(\"The dog is barking.\")"
   ]
  },
  {
   "cell_type": "raw",
   "id": "32a61805",
   "metadata": {},
   "source": [
    "In the above code, Dog is a derived class that inherits from the Animal base class. It adds its own method, bark, to the inherited functionality."
   ]
  },
  {
   "cell_type": "code",
   "execution_count": null,
   "id": "3606ebbc",
   "metadata": {},
   "outputs": [],
   "source": []
  },
  {
   "cell_type": "raw",
   "id": "a8ce1059",
   "metadata": {},
   "source": [
    "4.What is the significance of the \"protected\" access modifier in inheritance? How does\n",
    "it differ from \"private\" and \"public\" modifiers?\n",
    "Ans4.\n",
    "In Python, the \"protected\" access modifier is denoted by a single underscore (_) prefix before an attribute or method name. It indicates that the attribute or method is intended to be protected within the class and its subclasses, meaning it is accessible within the class itself and its derived classes, but not from outside the class hierarchy.\n",
    "\n",
    "Here are the key points about the significance of the \"protected\" access modifier in inheritance, along with the differences from \"private\" and \"public\" modifiers:\n",
    "\n",
    "Access within the Class Hierarchy:\n",
    "\n",
    "a.Public (no prefix): Attributes and methods without any prefix are accessible from anywhere, both within the class and outside the class.\n",
    "\n",
    "b.Protected (_ prefix): Attributes and methods with a single underscore prefix are considered protected, indicating that they should only be accessed within the class and its derived classes. They are not intended to be accessed from outside the class hierarchy.\n",
    "\n",
    "c.Private (__ double underscore prefix): Attributes and methods with a double underscore prefix are considered private, indicating that they should only be accessed within the class itself. They are not intended to be accessed or overridden by derived classes.\n",
    "\n",
    "Inheritance and Derived Classes:\n",
    "\n",
    "Public: Public attributes and methods are inherited by derived classes as they are. Derived classes can access and use them directly.\n",
    "\n",
    "Protected: Protected attributes and methods are also inherited by derived classes, and they can access and use them directly.\n",
    "\n",
    "Private: Private attributes and methods are not inherited by derived classes. They are only accessible within the class in which they are defined.\n",
    "\n",
    "It's important to note that Python does not enforce strict access control like some other languages. The access modifiers are more of a naming convention and provide a guideline for developers to indicate the intended usage and visibility of attributes and methods."
   ]
  },
  {
   "cell_type": "code",
   "execution_count": null,
   "id": "a1e29bd8",
   "metadata": {},
   "outputs": [],
   "source": []
  },
  {
   "cell_type": "raw",
   "id": "de5be16d",
   "metadata": {},
   "source": [
    "5.What is the purpose of the \"super\" keyword in inheritance? Provide an example.\n",
    "Ans.5.\n",
    "In inheritance, the 'super' keyword in Python is used to refer to the base class from within a derived class. It allows you to access and invoke methods or attributes of the base class. The 'super' keyword is particularly useful when you want to extend or override the behavior of the base class while still retaining and utilizing its functionalities.\n",
    "\n",
    "The primary purpose of the 'super' keyword is to enable cooperative method overriding and provide a way to call the base class's implementation of a method. It allows you to extend the functionality of the base class without duplicating its code.\n",
    "\n",
    "Here's an example to illustrate the usage of the 'super' keyword:"
   ]
  },
  {
   "cell_type": "code",
   "execution_count": 1,
   "id": "ba4b2579",
   "metadata": {},
   "outputs": [
    {
     "name": "stdout",
     "output_type": "stream",
     "text": [
      "Animal makes a sound.\n",
      "Dog barks.\n"
     ]
    }
   ],
   "source": [
    "class Animal:\n",
    "    def __init__(self, name):\n",
    "        self.name = name\n",
    "\n",
    "    def make_sound(self):\n",
    "        print(\"Animal makes a sound.\")\n",
    "\n",
    "\n",
    "class Dog(Animal):\n",
    "    def __init__(self, name, breed):\n",
    "        super().__init__(name)  # Calling the base class constructor\n",
    "        self.breed = breed\n",
    "\n",
    "    def make_sound(self):\n",
    "        super().make_sound()  # Calling the base class method\n",
    "        print(\"Dog barks.\")\n",
    "\n",
    "\n",
    "# Create an instance of the derived class\n",
    "my_dog = Dog(\"Buddy\", \"Labrador\")\n",
    "\n",
    "# Call the overridden method\n",
    "my_dog.make_sound()\n"
   ]
  },
  {
   "cell_type": "code",
   "execution_count": null,
   "id": "21bdbadd",
   "metadata": {},
   "outputs": [],
   "source": []
  },
  {
   "cell_type": "raw",
   "id": "c5e60343",
   "metadata": {},
   "source": [
    "6.Create a base class called \"Vehicle\" with attributes like \"make\", \"model\", and \"year\".\n",
    "  Then, create a derived class called \"Car\" that inherits from \"Vehicle\" and adds an\n",
    "  attribute called \"fuel_type\". Implement appropriate methods in both classes."
   ]
  },
  {
   "cell_type": "code",
   "execution_count": 20,
   "id": "7bdad959",
   "metadata": {},
   "outputs": [],
   "source": [
    "class Vehicle:\n",
    "    def __init__(self, make, model, year):\n",
    "        self.make = make\n",
    "        self.model = model\n",
    "        self.year  = year\n",
    "        \n",
    "    def Start(self):\n",
    "        print(f'{self.model} is starting')"
   ]
  },
  {
   "cell_type": "code",
   "execution_count": 21,
   "id": "e9dc69cd",
   "metadata": {},
   "outputs": [],
   "source": [
    "class Car(Vehicle):\n",
    "    def __init__(self, make, model, year, fuel_type):\n",
    "        super().__init__(make, model, year)\n",
    "        self.fuel_type = fuel_type\n",
    "        \n",
    "    def Car_start(self):\n",
    "        super().Start()\n",
    "        print(f'{self.make} {self.model} of {self.year} is ready to go')"
   ]
  },
  {
   "cell_type": "code",
   "execution_count": 23,
   "id": "f0fec9ea",
   "metadata": {},
   "outputs": [
    {
     "name": "stdout",
     "output_type": "stream",
     "text": [
      "Tiago is starting\n",
      "Tata Tiago of 2018 is ready to go\n"
     ]
    }
   ],
   "source": [
    "Car1 = Car('Tata', 'Tiago', 2018, 'Petrol')\n",
    "Car1.Car_start()"
   ]
  },
  {
   "cell_type": "code",
   "execution_count": null,
   "id": "1d96bfc1",
   "metadata": {},
   "outputs": [],
   "source": []
  },
  {
   "cell_type": "raw",
   "id": "a93e44d4",
   "metadata": {},
   "source": [
    "7.Create a base class called \"Employee\" with attributes like \"name\" and \"salary.\"\n",
    "  Derive two classes, \"Manager\" and \"Developer,\" from \"Employee.\" Add an additional\n",
    "  attribute called \"department\" for the \"Manager\" class and \"programming_language\"\n",
    "  for the \"Developer\" class."
   ]
  },
  {
   "cell_type": "code",
   "execution_count": 35,
   "id": "562b618c",
   "metadata": {},
   "outputs": [],
   "source": [
    "class Employee:\n",
    "    def __init__(self, name, salary):\n",
    "        self.name = name\n",
    "        self.salary = salary"
   ]
  },
  {
   "cell_type": "code",
   "execution_count": 36,
   "id": "4bbb89f3",
   "metadata": {},
   "outputs": [],
   "source": [
    "class Manager(Employee):\n",
    "    def __init__(self,name, salary, department):\n",
    "        super().__init__(name, salary)\n",
    "        self.department = department"
   ]
  },
  {
   "cell_type": "code",
   "execution_count": 37,
   "id": "8b8d0d33",
   "metadata": {},
   "outputs": [],
   "source": [
    "class Developer(Employee):\n",
    "    def __init__(self,name, salary, programming_language):\n",
    "        super().__init__(name, salary)\n",
    "        self.programming_language = programming_language"
   ]
  },
  {
   "cell_type": "code",
   "execution_count": 40,
   "id": "5c1b08d0",
   "metadata": {},
   "outputs": [
    {
     "name": "stdout",
     "output_type": "stream",
     "text": [
      "John\n",
      "100000\n",
      "IT\n"
     ]
    }
   ],
   "source": [
    "# Create instances of the derived classes\n",
    "# Access and print the attributes\n",
    "Manager1 = Manager('John', 100000, 'IT')\n",
    "print(Manager1.name)\n",
    "print(Manager1.salary)\n",
    "print(Manager1.department)"
   ]
  },
  {
   "cell_type": "code",
   "execution_count": 41,
   "id": "c1b9b94d",
   "metadata": {},
   "outputs": [
    {
     "name": "stdout",
     "output_type": "stream",
     "text": [
      "Tom\n",
      "100000\n",
      "Python\n"
     ]
    }
   ],
   "source": [
    "Developer1 = Developer('Tom', 100000, 'Python')\n",
    "print(Developer1.name)\n",
    "print(Developer1.salary)\n",
    "print(Developer1.programming_language)"
   ]
  },
  {
   "cell_type": "code",
   "execution_count": null,
   "id": "d3d60fca",
   "metadata": {},
   "outputs": [],
   "source": []
  },
  {
   "cell_type": "raw",
   "id": "eb34e3e1",
   "metadata": {},
   "source": [
    "8.Design a base class called \"Shape\" with attributes like \"colour\" and \"border_width.\"\n",
    "  Create derived classes, \"Rectangle\" and \"Circle,\" that inherit from \"Shape\" and add\n",
    "  specific attributes like \"length\" and \"width\" for the \"Rectangle\" class and \"radius\" for\n",
    "  the \"Circle\" class."
   ]
  },
  {
   "cell_type": "code",
   "execution_count": 42,
   "id": "ebb9fe3e",
   "metadata": {},
   "outputs": [],
   "source": [
    "class Shape:\n",
    "    def __init__(self, color, border_width):\n",
    "        self.color = color\n",
    "        self.border_width = border_width\n",
    "        \n",
    "class Rectangle(Shape):\n",
    "    def __init__(self, color, border_width, length, width):\n",
    "        super().__init__(color, border_width)\n",
    "        self.length = length\n",
    "        self.width = width\n",
    "        \n",
    "class Circle(Shape):\n",
    "    def __init__(self, color, border_width, radius):\n",
    "        super().__init__(color, border_width)\n",
    "        self.radius = radius"
   ]
  },
  {
   "cell_type": "code",
   "execution_count": 43,
   "id": "8e98e3dc",
   "metadata": {},
   "outputs": [
    {
     "name": "stdout",
     "output_type": "stream",
     "text": [
      "Red\n",
      "2\n",
      "10\n",
      "5\n"
     ]
    }
   ],
   "source": [
    "Rectangle1 = Rectangle('Red', 2, 10, 5)\n",
    "print(Rectangle1.color)\n",
    "print(Rectangle1.border_width)\n",
    "print(Rectangle1.length)\n",
    "print(Rectangle1.width)"
   ]
  },
  {
   "cell_type": "code",
   "execution_count": 44,
   "id": "2197de96",
   "metadata": {},
   "outputs": [
    {
     "name": "stdout",
     "output_type": "stream",
     "text": [
      "Blue\n",
      "4\n",
      "9\n"
     ]
    }
   ],
   "source": [
    "Circle1 = Circle('Blue', 4, 9)\n",
    "print(Circle1.color)\n",
    "print(Circle1.border_width)\n",
    "print(Circle1.radius)"
   ]
  },
  {
   "cell_type": "code",
   "execution_count": null,
   "id": "50c61b98",
   "metadata": {},
   "outputs": [],
   "source": []
  },
  {
   "cell_type": "raw",
   "id": "e5194b2b",
   "metadata": {},
   "source": [
    "9.Create a base class called \"Device\" with attributes like \"brand\" and \"model.\" Derive\n",
    "  two classes, \"Phone\" and \"Tablet,\" from \"Device.\" Add specific attributes like\n",
    "  \"screen_size\" for the \"Phone\" class and \"battery_capacity\" for the \"Tablet\" class."
   ]
  },
  {
   "cell_type": "code",
   "execution_count": 45,
   "id": "7964b238",
   "metadata": {},
   "outputs": [],
   "source": [
    "class Device:\n",
    "    def __init__(self, brand, model):\n",
    "        self.brand = brand\n",
    "        self.model = model\n",
    "        \n",
    "class Phone(Device):\n",
    "    def __init__(self, brand, model, screen_size):\n",
    "        super().__init__(brand, model)\n",
    "        self.screen_size = screen_size\n",
    "        \n",
    "class Tablet(Device):\n",
    "    def __init__(self, brand, model, battery_capacity):\n",
    "        super().__init__(brand, model)\n",
    "        self.battery_capacity = battery_capacity\n",
    "    "
   ]
  },
  {
   "cell_type": "code",
   "execution_count": 46,
   "id": "8801a0eb",
   "metadata": {},
   "outputs": [
    {
     "name": "stdout",
     "output_type": "stream",
     "text": [
      "Samsung\n",
      "Galaxy\n",
      "7inch\n"
     ]
    }
   ],
   "source": [
    "Phone1 = Phone('Samsung', 'Galaxy', '7inch')\n",
    "print(Phone1.brand)\n",
    "print(Phone1.model)\n",
    "print(Phone1.screen_size)"
   ]
  },
  {
   "cell_type": "code",
   "execution_count": 48,
   "id": "4549ba35",
   "metadata": {},
   "outputs": [
    {
     "name": "stdout",
     "output_type": "stream",
     "text": [
      "Motorola\n",
      "E6\n",
      "6000mah\n"
     ]
    }
   ],
   "source": [
    "Tablet1 = Tablet('Motorola', 'E6', '6000mah')\n",
    "print(Tablet1.brand)\n",
    "print(Tablet1.model)\n",
    "print(Tablet1.battery_capacity)"
   ]
  },
  {
   "cell_type": "code",
   "execution_count": null,
   "id": "a13e0f4b",
   "metadata": {},
   "outputs": [],
   "source": []
  },
  {
   "cell_type": "raw",
   "id": "b453c24c",
   "metadata": {},
   "source": [
    "10.Create a base class called \"BankAccount\" with attributes like \"account_number\" and\n",
    "  \"balance.\" Derive two classes, \"SavingsAccount\" and \"CheckingAccount,\" from\n",
    "  \"BankAccount.\" Add specific methods like \"calculate_interest\" for the\n",
    "  \"SavingsAccount\" class and \"deduct_fees\" for the \"CheckingAccount\" class."
   ]
  },
  {
   "cell_type": "code",
   "execution_count": 68,
   "id": "3b0569da",
   "metadata": {},
   "outputs": [],
   "source": [
    "class BankAccount:\n",
    "    def __init__(self, account_number, balance):\n",
    "        self.account_number = account_number\n",
    "        self.balance = balance\n",
    "        \n",
    "class SavingAccount(BankAccount):\n",
    "    def calculate_interest(self, interest):\n",
    "        print(f'Available balance is {self.balance}')\n",
    "        Interest_earn = (interest/100)*self.balance\n",
    "        self.balance = self.balance + Interest_earn\n",
    "        print(f'Interest earned on balance is {Interest_earn}, available balance is {self.balance}')\n",
    "    \n",
    "class CheckingAccount(BankAccount):\n",
    "        def deduct_fees(self, fees):\n",
    "            print(f'Available balance is {self.balance}')\n",
    "            self.balance = self.balance - fees\n",
    "            print(f'Your balance after fees deduction is {self.balance}')\n",
    "        "
   ]
  },
  {
   "cell_type": "code",
   "execution_count": 69,
   "id": "f03b78fd",
   "metadata": {},
   "outputs": [
    {
     "name": "stdout",
     "output_type": "stream",
     "text": [
      "Available balance is 25000\n",
      "Interest earned on balance is 2500.0, available balance is 27500.0\n"
     ]
    }
   ],
   "source": [
    "SavingAccount1 = SavingAccount('A123',25000)\n",
    "SavingAccount1.calculate_interest(10)"
   ]
  },
  {
   "cell_type": "code",
   "execution_count": 70,
   "id": "65c875db",
   "metadata": {},
   "outputs": [
    {
     "name": "stdout",
     "output_type": "stream",
     "text": [
      "Available balance is 25500\n",
      "Your balance after fees deduction is 25000\n"
     ]
    }
   ],
   "source": [
    "CheckingAccount1 = CheckingAccount('B456', 25500)\n",
    "CheckingAccount1.deduct_fees(500)"
   ]
  },
  {
   "cell_type": "code",
   "execution_count": null,
   "id": "c6c25983",
   "metadata": {},
   "outputs": [],
   "source": []
  }
 ],
 "metadata": {
  "kernelspec": {
   "display_name": "Python 3 (ipykernel)",
   "language": "python",
   "name": "python3"
  },
  "language_info": {
   "codemirror_mode": {
    "name": "ipython",
    "version": 3
   },
   "file_extension": ".py",
   "mimetype": "text/x-python",
   "name": "python",
   "nbconvert_exporter": "python",
   "pygments_lexer": "ipython3",
   "version": "3.10.9"
  }
 },
 "nbformat": 4,
 "nbformat_minor": 5
}
