{
 "cells": [
  {
   "cell_type": "markdown",
   "id": "09a0ebc7",
   "metadata": {},
   "source": [
    "Q1)  In Python, what is the difference between a built-in function and a user-defined function? Provide an\n",
    "example of each."
   ]
  },
  {
   "cell_type": "code",
   "execution_count": null,
   "id": "f487044e",
   "metadata": {},
   "outputs": [],
   "source": [
    "# Buld in functions are already available in python and we just need to call is \n",
    "# print(), sum(), len()"
   ]
  },
  {
   "cell_type": "code",
   "execution_count": 1,
   "id": "6793bfdb",
   "metadata": {},
   "outputs": [
    {
     "name": "stdout",
     "output_type": "stream",
     "text": [
      "Hello, world!\n",
      "6\n"
     ]
    }
   ],
   "source": [
    "print(\"Hello, world!\")\n",
    "\n",
    "string = \"Python\"\n",
    "length = len(string)\n",
    "print(length)  "
   ]
  },
  {
   "cell_type": "code",
   "execution_count": null,
   "id": "e66443e4",
   "metadata": {},
   "outputs": [],
   "source": [
    "# User-define function are bulit by using def ()"
   ]
  },
  {
   "cell_type": "code",
   "execution_count": 2,
   "id": "0cc9d05e",
   "metadata": {},
   "outputs": [
    {
     "name": "stdout",
     "output_type": "stream",
     "text": [
      "25\n"
     ]
    }
   ],
   "source": [
    "def square(num):\n",
    "    return num ** 2\n",
    "\n",
    "\n",
    "result = square(5)\n",
    "print(result)  "
   ]
  },
  {
   "cell_type": "code",
   "execution_count": null,
   "id": "cd1e742d",
   "metadata": {},
   "outputs": [],
   "source": [
    "#Q2) How can you pass arguments to a function in Python? Explain the difference between positional arguments and \n",
    "#keyword arguments."
   ]
  },
  {
   "cell_type": "markdown",
   "id": "e68f4098",
   "metadata": {},
   "source": [
    "Positional arguments are the most common way to pass arguments to a function. When you call a function and pass arguments, Python matches the provided values with the function parameters based on their positions. The order of the arguments matters, and the values are assigned to the corresponding parameters in the order they appear."
   ]
  },
  {
   "cell_type": "code",
   "execution_count": 3,
   "id": "cc9c6350",
   "metadata": {},
   "outputs": [
    {
     "name": "stdout",
     "output_type": "stream",
     "text": [
      "8\n"
     ]
    }
   ],
   "source": [
    "def add_numbers(a, b):\n",
    "    return a + b\n",
    "\n",
    "result = add_numbers(3, 5)\n",
    "print(result) \n"
   ]
  },
  {
   "cell_type": "markdown",
   "id": "11ac1103",
   "metadata": {},
   "source": [
    "Keyword arguments allow you to pass arguments to a function by specifying the parameter names along with their corresponding values. When using keyword arguments, the order of the arguments doesn't matter, as the values are assigned based on the parameter names."
   ]
  },
  {
   "cell_type": "code",
   "execution_count": 4,
   "id": "b9afadaf",
   "metadata": {},
   "outputs": [
    {
     "name": "stdout",
     "output_type": "stream",
     "text": [
      "Name: John, Age: 30\n",
      "Name: Alice, Age: 25\n"
     ]
    }
   ],
   "source": [
    "def print_info(name, age):\n",
    "    print(f\"Name: {name}, Age: {age}\")\n",
    "\n",
    "print_info(name=\"John\", age=30)\n",
    "\n",
    "print_info(age=25, name=\"Alice\")\n"
   ]
  },
  {
   "cell_type": "markdown",
   "id": "c16e7cef",
   "metadata": {},
   "source": [
    "Q3) What is the purpose of the return statement in a function? Can a function have multiple return\n",
    "statements? Explain with an example."
   ]
  },
  {
   "cell_type": "markdown",
   "id": "30314ff9",
   "metadata": {},
   "source": [
    "The purpose of the return statement in a function is to specify the value that the function should return when it is called. When a return statement is encountered in a function, it immediately stops the execution of the function and returns the specified value back to the caller.\n",
    "\n",
    "Yes, a function can have multiple return statements. However, only one return statement will be executed during a single function call. The first encountered return statement will be executed, and the function will exit with the corresponding value. Any subsequent return statements in the function will not be executed."
   ]
  },
  {
   "cell_type": "code",
   "execution_count": 8,
   "id": "6213bf60",
   "metadata": {},
   "outputs": [
    {
     "name": "stdout",
     "output_type": "stream",
     "text": [
      "5\n",
      "9\n"
     ]
    }
   ],
   "source": [
    "def absolute_value(num):\n",
    "    if num >= 0:\n",
    "        return num\n",
    "    else:\n",
    "        return -num\n",
    "\n",
    "result1 = absolute_value(5)\n",
    "print(result1)\n",
    "\n",
    "result2 = absolute_value(-9)\n",
    "print(result2)"
   ]
  },
  {
   "cell_type": "markdown",
   "id": "fd159831",
   "metadata": {},
   "source": [
    "Q4)  What are lambda functions in Python? How are they different from regular functions? Provide an\n",
    "example where a lambda function can be useful."
   ]
  },
  {
   "cell_type": "markdown",
   "id": "efd1b9e4",
   "metadata": {},
   "source": [
    "Lambda functions, also known as anonymous functions, are small, single-line functions in Python that can have any number of arguments but only one expression. They are defined using the lambda "
   ]
  },
  {
   "cell_type": "code",
   "execution_count": 9,
   "id": "9cb11b8d",
   "metadata": {},
   "outputs": [
    {
     "name": "stdout",
     "output_type": "stream",
     "text": [
      "8\n"
     ]
    }
   ],
   "source": [
    "add_lambda = lambda a, b: a + b\n",
    "\n",
    "result2 = add_lambda(3, 5)\n",
    "print(result2)  # Output: 8"
   ]
  },
  {
   "cell_type": "markdown",
   "id": "3de00120",
   "metadata": {},
   "source": [
    "Q5) How does the concept of \"scope\" apply to functions in Python? Explain the difference between local\n",
    "scope and global scope."
   ]
  },
  {
   "cell_type": "markdown",
   "id": "ab460267",
   "metadata": {},
   "source": [
    "Local Scope:\n",
    "Local scope refers to the region within a function where variables are defined. Variables declared inside a function are considered to be in the local scope. These variables are only accessible from within that function and are not visible outside of it. Once the function execution completes, the local variables are destroyed, and their values are no longer available."
   ]
  },
  {
   "cell_type": "markdown",
   "id": "36f66388",
   "metadata": {},
   "source": [
    "Global Scope:\n",
    "Global scope refers to the region outside of any function, where variables are defined at the top level of a script or module. Variables declared in the global scope are accessible throughout the entire program, including inside functions. However, if you want to modify a global variable within a function, you need to use the global keyword to indicate that you are referring to the global variable and not creating a new local variable with the same name."
   ]
  },
  {
   "cell_type": "code",
   "execution_count": 10,
   "id": "397afe20",
   "metadata": {},
   "outputs": [
    {
     "name": "stdout",
     "output_type": "stream",
     "text": [
      "Result 1: 8\n",
      "Result 2: 12\n",
      "Global variable: 20\n"
     ]
    }
   ],
   "source": [
    "global_variable = 10  # Global variable\n",
    "\n",
    "def add_to_global_and_local(num):\n",
    "    local_variable = 5  # Local variable\n",
    "    global global_variable\n",
    "    global_variable += num\n",
    "    return local_variable + num\n",
    "\n",
    "result1 = add_to_global_and_local(3)\n",
    "print(\"Result 1:\", result1)\n",
    "\n",
    "result2 = add_to_global_and_local(7)\n",
    "print(\"Result 2:\", result2)  # Output: Result 2: 12\n",
    "\n",
    "print(\"Global variable:\", global_variable)  # Output: Global variable: 20\n"
   ]
  },
  {
   "cell_type": "markdown",
   "id": "4a12cc73",
   "metadata": {},
   "source": [
    "Q6) . How can you use the \"return\" statement in a Python function to return multiple values?"
   ]
  },
  {
   "cell_type": "code",
   "execution_count": 14,
   "id": "9bd21008",
   "metadata": {},
   "outputs": [
    {
     "ename": "SyntaxError",
     "evalue": "invalid syntax (623706210.py, line 1)",
     "output_type": "error",
     "traceback": [
      "\u001b[1;36m  Cell \u001b[1;32mIn[14], line 1\u001b[1;36m\u001b[0m\n\u001b[1;33m    by putting commer ex\u001b[0m\n\u001b[1;37m       ^\u001b[0m\n\u001b[1;31mSyntaxError\u001b[0m\u001b[1;31m:\u001b[0m invalid syntax\n"
     ]
    }
   ],
   "source": [
    "by putting commer ex\n",
    "\n",
    "return a, b, c"
   ]
  },
  {
   "cell_type": "markdown",
   "id": "6f355cbc",
   "metadata": {},
   "source": [
    "Q7) What is the difference between the \"pass by value\" and \"pass by reference\" concepts when it\n",
    "comes to function arguments in Python?\n"
   ]
  },
  {
   "cell_type": "code",
   "execution_count": 11,
   "id": "b388b4e9",
   "metadata": {},
   "outputs": [
    {
     "name": "stdout",
     "output_type": "stream",
     "text": [
      "Inside function: 6\n",
      "Outside function: 5\n"
     ]
    }
   ],
   "source": [
    "def modify_value(x):\n",
    "    x = x + 1\n",
    "    print(\"Inside function:\", x)\n",
    "\n",
    "num = 5\n",
    "modify_value(num)\n",
    "print(\"Outside function:\", num)\n"
   ]
  },
  {
   "cell_type": "code",
   "execution_count": null,
   "id": "54520e26",
   "metadata": {},
   "outputs": [],
   "source": []
  },
  {
   "cell_type": "code",
   "execution_count": null,
   "id": "f36791e8",
   "metadata": {},
   "outputs": [],
   "source": []
  },
  {
   "cell_type": "markdown",
   "id": "35cf7df4",
   "metadata": {},
   "source": [
    "Q9) Create a function that takes a full name as an argument and returns first name and last name."
   ]
  },
  {
   "cell_type": "code",
   "execution_count": 26,
   "id": "f4b639fc",
   "metadata": {},
   "outputs": [],
   "source": [
    "def name(full_name):\n",
    "    l= list(full_name)\n",
    "    y= l.index(' ') \n",
    "    M= l[0]+l[y+1]\n",
    "    return list(M)\n",
    "\n",
    "name('Sawan Lukked' )"
   ]
  },
  {
   "cell_type": "markdown",
   "id": "2273fb53",
   "metadata": {},
   "source": [
    "Q8) Create a function that can intake integer or decimal value and do following operations:\n",
    "a. Logarithmic function (log x)\n",
    "b. Exponential function (exp(x))\n",
    "c. Power function with base 2 (2\n",
    "x\n",
    ")\n",
    "d. Square root\n"
   ]
  },
  {
   "cell_type": "code",
   "execution_count": 29,
   "id": "e85a5986",
   "metadata": {},
   "outputs": [
    {
     "name": "stdout",
     "output_type": "stream",
     "text": [
      "Logarithmic: 2.302585092994046\n",
      "Exponential: 22026.465794806718\n",
      "Power with base 2: 1024.0\n",
      "Square Root: 3.1622776601683795\n"
     ]
    }
   ],
   "source": [
    "import math\n",
    "\n",
    "def math_operations(value):\n",
    "    log_result = math.log(value)\n",
    "    exp_result = math.exp(value)\n",
    "    power_result = math.pow(2, value)\n",
    "    square_root_result = math.sqrt(value)\n",
    "    return log_result, exp_result, power_result, square_root_result\n",
    "\n",
    "num1 = 10\n",
    "\n",
    "result1 = math_operations(num1)\n",
    "print(\"Logarithmic:\", result1[0])\n",
    "print(\"Exponential:\", result1[1])\n",
    "print(\"Power with base 2:\", result1[2])\n",
    "print(\"Square Root:\", result1[3])"
   ]
  },
  {
   "cell_type": "code",
   "execution_count": null,
   "id": "e4418659",
   "metadata": {},
   "outputs": [],
   "source": []
  }
 ],
 "metadata": {
  "kernelspec": {
   "display_name": "Python 3 (ipykernel)",
   "language": "python",
   "name": "python3"
  },
  "language_info": {
   "codemirror_mode": {
    "name": "ipython",
    "version": 3
   },
   "file_extension": ".py",
   "mimetype": "text/x-python",
   "name": "python",
   "nbconvert_exporter": "python",
   "pygments_lexer": "ipython3",
   "version": "3.10.9"
  }
 },
 "nbformat": 4,
 "nbformat_minor": 5
}
