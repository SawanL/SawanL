{
 "cells": [
  {
   "cell_type": "raw",
   "id": "16bf1aa8",
   "metadata": {},
   "source": [
    "1.What is the role of try and exception block?\n",
    "Ans.1.\n",
    "The try and except blocks in Python are used for exception handling, which allows you to catch and handle runtime errors or exceptions that may occur during the execution of your code.\n",
    "\n",
    "The try block is used to enclose the code that you suspect may raise an exception. If an exception occurs within the try block, the rest of the code within the try block is skipped, and the execution jumps to the corresponding except block.\n",
    "\n",
    "The except block specifies the type of exception it can handle, allowing you to define the appropriate actions to take when that specific exception occurs. You can have multiple except blocks to handle different types of exceptions, allowing you to customize the error handling based on the specific exception that occurred.\n",
    "\n",
    "Here's a simple example to illustrate the use of try and except:"
   ]
  },
  {
   "cell_type": "code",
   "execution_count": 1,
   "id": "656fa285",
   "metadata": {},
   "outputs": [
    {
     "name": "stdout",
     "output_type": "stream",
     "text": [
      "Enter a number: 25\n",
      "Enter another number: 0\n",
      "Error: Division by zero is not allowed.\n"
     ]
    }
   ],
   "source": [
    "try:\n",
    "    num1 = int(input(\"Enter a number: \"))\n",
    "    num2 = int(input(\"Enter another number: \"))\n",
    "    result = num1 / num2\n",
    "    print(\"The result is:\", result)\n",
    "except ZeroDivisionError:\n",
    "    print(\"Error: Division by zero is not allowed.\")"
   ]
  },
  {
   "cell_type": "code",
   "execution_count": null,
   "id": "c0f73d74",
   "metadata": {},
   "outputs": [],
   "source": []
  },
  {
   "cell_type": "raw",
   "id": "8a8a9b68",
   "metadata": {},
   "source": [
    "2.What is the syntax for a basic try-except block?"
   ]
  },
  {
   "cell_type": "code",
   "execution_count": null,
   "id": "fb61daea",
   "metadata": {},
   "outputs": [],
   "source": [
    "try:\n",
    "    # Code that may raise an exception\n",
    "    # ...\n",
    "except ExceptionType:\n",
    "    # Code to handle the exception\n",
    "    # ..."
   ]
  },
  {
   "cell_type": "code",
   "execution_count": null,
   "id": "774130e8",
   "metadata": {},
   "outputs": [],
   "source": []
  },
  {
   "cell_type": "raw",
   "id": "98a2c481",
   "metadata": {},
   "source": [
    "3.What happens if an exception occurs inside a try block and there is no matching\n",
    "  except block?\n",
    "Ans.3.\n",
    "If an exception occurs inside a try block and there is no matching except block to handle that specific exception, the program will terminate abruptly, and a traceback message will be displayed.\n",
    "\n",
    "The traceback message provides information about the unhandled exception, including the exception type, the line of code where the exception occurred, and the stack trace leading up to the exception. It helps in identifying the cause of the error and debugging the program."
   ]
  },
  {
   "cell_type": "code",
   "execution_count": 2,
   "id": "0ff8f571",
   "metadata": {},
   "outputs": [
    {
     "ename": "ZeroDivisionError",
     "evalue": "division by zero",
     "output_type": "error",
     "traceback": [
      "\u001b[1;31m---------------------------------------------------------------------------\u001b[0m",
      "\u001b[1;31mZeroDivisionError\u001b[0m                         Traceback (most recent call last)",
      "Cell \u001b[1;32mIn[2], line 3\u001b[0m\n\u001b[0;32m      1\u001b[0m \u001b[38;5;28;01mtry\u001b[39;00m:\n\u001b[0;32m      2\u001b[0m     \u001b[38;5;66;03m# Code that may raise an exception\u001b[39;00m\n\u001b[1;32m----> 3\u001b[0m     num \u001b[38;5;241m=\u001b[39m \u001b[38;5;241;43m1\u001b[39;49m\u001b[43m \u001b[49m\u001b[38;5;241;43m/\u001b[39;49m\u001b[43m \u001b[49m\u001b[38;5;241;43m0\u001b[39;49m\n\u001b[0;32m      4\u001b[0m \u001b[38;5;28;01mexcept\u001b[39;00m \u001b[38;5;167;01mValueError\u001b[39;00m:\n\u001b[0;32m      5\u001b[0m     \u001b[38;5;66;03m# Code to handle ValueError\u001b[39;00m\n\u001b[0;32m      6\u001b[0m     \u001b[38;5;28mprint\u001b[39m(\u001b[38;5;124m\"\u001b[39m\u001b[38;5;124mHandling ValueError...\u001b[39m\u001b[38;5;124m\"\u001b[39m)\n",
      "\u001b[1;31mZeroDivisionError\u001b[0m: division by zero"
     ]
    }
   ],
   "source": [
    "try:\n",
    "    # Code that may raise an exception\n",
    "    num = 1 / 0\n",
    "except ValueError:\n",
    "    # Code to handle ValueError\n",
    "    print(\"Handling ValueError...\")"
   ]
  },
  {
   "cell_type": "code",
   "execution_count": null,
   "id": "4b6a0bfd",
   "metadata": {},
   "outputs": [],
   "source": []
  },
  {
   "cell_type": "raw",
   "id": "2b24b084",
   "metadata": {},
   "source": [
    "4.What is the difference between using a bare except block and specifying a specific\n",
    "  exception type?\n",
    "Ans.4.\n",
    "The difference between using a bare except block and specifying a specific exception type in an except block lies in the level of control and precision you have over handling exceptions.\n",
    "\n",
    "a.Specific Exception Type:\n",
    "When you specify a specific exception type in an except block (e.g., except ValueError:), you are explicitly stating which type of exception you want to handle. This allows you to write code that specifically addresses the expected error conditions. You can provide targeted error handling and take appropriate actions based on the specific exception type. This approach is generally considered good practice because it promotes explicit and intentional handling of known exceptions.\n",
    "\n",
    "b.Bare Except:\n",
    "When you use a bare except block (e.g., except: without specifying an exception type), you catch all exceptions that haven't been caught by the preceding specific except blocks. It serves as a catch-all block for any unhandled exception. While this approach can prevent the program from terminating abruptly when unexpected exceptions occur, it comes with a trade-off. By catching all exceptions, you lose the ability to differentiate between different types of exceptions and handle them differently. It can make debugging and error diagnosis more difficult because you don't have explicit information about the specific exception that occurred."
   ]
  },
  {
   "cell_type": "code",
   "execution_count": null,
   "id": "ebd697eb",
   "metadata": {},
   "outputs": [],
   "source": []
  },
  {
   "cell_type": "raw",
   "id": "6f1df482",
   "metadata": {},
   "source": [
    "5.Can you have nested try-except blocks in Python? If yes, then give an example.\n",
    "Ans.5.\n",
    "We can have nested try-except blocks in Python. In this case, if an exception is raised in the nested try block, the nested except block is used to handle it. In case the nested except is not able to handle it, the outer except blocks are used to handle the exception."
   ]
  },
  {
   "cell_type": "code",
   "execution_count": 12,
   "id": "2033129a",
   "metadata": {},
   "outputs": [
    {
     "name": "stdout",
     "output_type": "stream",
     "text": [
      "outer try block\n",
      "Inner try block\n",
      "outer except block\n"
     ]
    }
   ],
   "source": [
    "try:\n",
    "    print(\"outer try block\")\n",
    "    try:\n",
    "        print(\"Inner try block\")\n",
    "        print(10/0)\n",
    "    except ValueError:\n",
    "        print(\"Inner except block\")\n",
    "except ZeroDivisionError:\n",
    "    print(\"outer except block\")"
   ]
  },
  {
   "cell_type": "code",
   "execution_count": null,
   "id": "d31cb520",
   "metadata": {},
   "outputs": [],
   "source": []
  },
  {
   "cell_type": "raw",
   "id": "b7a5f7f7",
   "metadata": {},
   "source": [
    "6.Can we use multiple exception blocks, if yes then give an example.\n",
    "Ans.6.\n",
    "Yes, it is possible to use multiple except blocks to handle different types of exceptions in Python. This allows you to customize the error handling based on the specific exception that occurs.\n",
    "\n",
    "Here's an example that demonstrates the use of multiple except blocks:"
   ]
  },
  {
   "cell_type": "code",
   "execution_count": null,
   "id": "db573f99",
   "metadata": {},
   "outputs": [],
   "source": [
    "try:\n",
    "    # Code that may raise an exception\n",
    "    # ...\n",
    "except ValueError:\n",
    "    # Code to handle ValueError\n",
    "    # ...\n",
    "except TypeError:\n",
    "    # Code to handle TypeError\n",
    "    # ...\n",
    "except:\n",
    "    # Code to handle any other unhandled exception\n",
    "    # ..."
   ]
  },
  {
   "cell_type": "code",
   "execution_count": null,
   "id": "eb346ccc",
   "metadata": {},
   "outputs": [],
   "source": []
  },
  {
   "cell_type": "raw",
   "id": "b58f8241",
   "metadata": {},
   "source": [
    "7. Write the reason due to which following errors are raised:\n",
    "a. EOFError\n",
    "b. FloatingPointError\n",
    "c. IndexError\n",
    "d. MemoryError\n",
    "e. OverflowError\n",
    "f. TabError\n",
    "g. ValueError\n",
    "\n",
    "Ans.7.\n",
    "Here are the reasons for the following errors that can be raised in Python:\n",
    "\n",
    "a. EOFError: This error is raised when the input() function or the raw_input() function (in Python 2) reaches the end of file (EOF) without receiving any input. It typically occurs when you expect input from the user, but the input stream is closed or empty.\n",
    "\n",
    "b. FloatingPointError: This error occurs when a floating-point operation encounters an exceptional condition that cannot be handled, such as division by zero or an invalid mathematical operation. It can happen when you perform calculations involving floating-point numbers that lead to undefined or non-finite results.\n",
    "\n",
    "c. IndexError: This error is raised when you try to access an index of a sequence (such as a list, tuple, or string) that is out of range or does not exist. It occurs when you provide an invalid index value that is beyond the bounds of the sequence.\n",
    "\n",
    "d. MemoryError: This error occurs when the Python program runs out of available memory to allocate for new objects. It happens when you attempt to allocate more memory than the system can provide, typically due to the program's excessive memory usage or the system's resource limitations.\n",
    "\n",
    "e. OverflowError: This error is raised when the result of a numerical operation exceeds the maximum representable value for a numeric type. It occurs when you perform calculations that produce a value outside the range that can be represented by the given numeric type.\n",
    "\n",
    "f. TabError: This error is raised when there is an indentation-related issue, typically involving the use of tabs and spaces inconsistently. It occurs when you mix tabs and spaces for indentation or use an incorrect number of spaces, violating Python's indentation rules.\n",
    "\n",
    "g. ValueError: This error is raised when a function or operation receives an argument of the correct type but with an invalid value. It occurs when you provide a value that is not acceptable or outside the expected range for a specific function or operation."
   ]
  },
  {
   "cell_type": "code",
   "execution_count": null,
   "id": "a3401885",
   "metadata": {},
   "outputs": [],
   "source": []
  },
  {
   "cell_type": "raw",
   "id": "b9361dfc",
   "metadata": {},
   "source": [
    "8. Write code for the following given scenario and add try-exception block to it.\n",
    "a. Program to divide two numbers\n",
    "b. Program to convert a string to an integer\n",
    "c. Program to access an element in a list\n",
    "d. Program to handle a specific exception\n",
    "e. Program to handle any exception"
   ]
  },
  {
   "cell_type": "code",
   "execution_count": 23,
   "id": "acfa8e63",
   "metadata": {},
   "outputs": [
    {
     "name": "stdout",
     "output_type": "stream",
     "text": [
      "Please enter the numerator: 12\n",
      "Please enter the denominator: 0\n",
      "There is an Error: Division by zero is not allowed.\n"
     ]
    }
   ],
   "source": [
    "#Program to divide two numbers\n",
    "try:\n",
    "    n = int(input(\"Please enter the numerator: \"))\n",
    "    d = int(input(\"Please enter the denominator: \"))\n",
    "\n",
    "    result = n / d\n",
    "    print(\"Result:\", result)\n",
    "\n",
    "except ZeroDivisionError:\n",
    "    print(\"There is an Error: Division by zero is not allowed.\")\n"
   ]
  },
  {
   "cell_type": "code",
   "execution_count": 27,
   "id": "283808a6",
   "metadata": {},
   "outputs": [
    {
     "name": "stdout",
     "output_type": "stream",
     "text": [
      "Enter a number: 25\n",
      "Number: 25\n"
     ]
    }
   ],
   "source": [
    "#Program to convert a string to an integer\n",
    "try:\n",
    "    string_num = input(\"Enter a number: \")\n",
    "    num = int(string_num)\n",
    "    print(\"Number:\", num)\n",
    "except ValueError:\n",
    "    print(\"Error: Invalid input. Please enter a valid integer.\")"
   ]
  },
  {
   "cell_type": "code",
   "execution_count": 29,
   "id": "a0cf224c",
   "metadata": {},
   "outputs": [
    {
     "name": "stdout",
     "output_type": "stream",
     "text": [
      "Enter the index: 2\n",
      "Element: 3\n"
     ]
    }
   ],
   "source": [
    "#Program to access an element in a list\n",
    "try:\n",
    "    my_list = [1, 2, 3, 4, 5]\n",
    "    index = int(input(\"Enter the index: \"))\n",
    "    element = my_list[index]\n",
    "    print(\"Element:\", element)\n",
    "except IndexError:\n",
    "    print(\"Error: Index out of range. Please enter a valid index.\")"
   ]
  },
  {
   "cell_type": "code",
   "execution_count": 42,
   "id": "f16c323d",
   "metadata": {},
   "outputs": [
    {
     "name": "stdout",
     "output_type": "stream",
     "text": [
      "Enter your age: -12\n",
      "Error: Age cannot be negative.\n"
     ]
    }
   ],
   "source": [
    "#Program to handle a specific exception\n",
    "try:\n",
    "    age = int(input(\"Enter your age: \"))\n",
    "    if age < 0:\n",
    "        raise ValueError(\"Age cannot be negative.\")\n",
    "    print(\"Age:\", age)\n",
    "except ValueError as ve:\n",
    "    print(\"Error:\", str(ve))"
   ]
  },
  {
   "cell_type": "code",
   "execution_count": 41,
   "id": "77bee21e",
   "metadata": {},
   "outputs": [
    {
     "name": "stdout",
     "output_type": "stream",
     "text": [
      "Enter the numerator: 10.2\n",
      "An unexpected error occurred: invalid literal for int() with base 10: '10.2'\n"
     ]
    }
   ],
   "source": [
    "# Program to handle any exception\n",
    "try:\n",
    "    num1 = int(input(\"Enter the numerator: \"))\n",
    "    num2 = int(input(\"Enter the denominator: \"))\n",
    "    result = num1 / num2\n",
    "    print(\"Result:\", result)\n",
    "except Exception as e:\n",
    "    print(\"An unexpected error occurred:\", str(e))"
   ]
  },
  {
   "cell_type": "code",
   "execution_count": null,
   "id": "03852706",
   "metadata": {},
   "outputs": [],
   "source": []
  },
  {
   "cell_type": "code",
   "execution_count": null,
   "id": "dff5eca3",
   "metadata": {},
   "outputs": [],
   "source": []
  }
 ],
 "metadata": {
  "kernelspec": {
   "display_name": "Python 3 (ipykernel)",
   "language": "python",
   "name": "python3"
  },
  "language_info": {
   "codemirror_mode": {
    "name": "ipython",
    "version": 3
   },
   "file_extension": ".py",
   "mimetype": "text/x-python",
   "name": "python",
   "nbconvert_exporter": "python",
   "pygments_lexer": "ipython3",
   "version": "3.10.9"
  }
 },
 "nbformat": 4,
 "nbformat_minor": 5
}
