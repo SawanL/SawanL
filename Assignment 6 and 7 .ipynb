{
 "cells": [
  {
   "cell_type": "markdown",
   "id": "8b85447d",
   "metadata": {},
   "source": [
    "# Assignment 6 /7 - 20th and 21st  May"
   ]
  },
  {
   "cell_type": "markdown",
   "id": "d7fb047b",
   "metadata": {},
   "source": [
    "# Assignment 6"
   ]
  },
  {
   "cell_type": "code",
   "execution_count": null,
   "id": "aeb171ba",
   "metadata": {},
   "outputs": [],
   "source": [
    "# Q.1. What are keywords in python? Using the keyword library, print all the python keywords."
   ]
  },
  {
   "cell_type": "code",
   "execution_count": 1,
   "id": "14e3004d",
   "metadata": {},
   "outputs": [
    {
     "name": "stdout",
     "output_type": "stream",
     "text": [
      "['False', 'None', 'True', 'and', 'as', 'assert', 'async', 'await', 'break', 'class', 'continue', 'def', 'del', 'elif', 'else', 'except', 'finally', 'for', 'from', 'global', 'if', 'import', 'in', 'is', 'lambda', 'nonlocal', 'not', 'or', 'pass', 'raise', 'return', 'try', 'while', 'with', 'yield']\n"
     ]
    }
   ],
   "source": [
    "import keyword\n",
    "\n",
    "all_keywords = keyword.kwlist\n",
    "print(all_keywords)"
   ]
  },
  {
   "cell_type": "code",
   "execution_count": null,
   "id": "83ea20ae",
   "metadata": {},
   "outputs": [],
   "source": [
    "# Q.2. What are the rules to create variables in python?\n",
    "\n",
    "#Ans # 1) Variable can not start with number or any special character excepts (_)\n",
    "# 2) It can not contain any special character except (_)\n",
    "# 3) Variable are case sensative \n",
    "# 4) keword like 'print' or 'And' can not be variable  "
   ]
  },
  {
   "cell_type": "markdown",
   "id": "3707161b",
   "metadata": {},
   "source": [
    "''' Q.3. What are the standards and conventions followed for the nomenclature of variables in\n",
    "python to improve code readability and maintainability?\n",
    "\n",
    "Ans) A part from above below two points to be considered for variable\n",
    "\n",
    "Use descriptive names: Choose meaningful and self-explanatory names for variables that convey their purpose or meaning. This helps make your code more readable and easier to understand.\n",
    "\n",
    "Use lowercase with underscores: Separate words in variable names using underscores (_). This convention is known as snake_case. For example, total_count is preferred over totalCount or TotalCount.\n",
    "\n",
    "'''\n",
    "\n"
   ]
  },
  {
   "cell_type": "code",
   "execution_count": 3,
   "id": "2b2df69c",
   "metadata": {},
   "outputs": [
    {
     "ename": "SyntaxError",
     "evalue": "invalid syntax (2690775631.py, line 3)",
     "output_type": "error",
     "traceback": [
      "\u001b[1;36m  Cell \u001b[1;32mIn[3], line 3\u001b[1;36m\u001b[0m\n\u001b[1;33m    and = 5\u001b[0m\n\u001b[1;37m    ^\u001b[0m\n\u001b[1;31mSyntaxError\u001b[0m\u001b[1;31m:\u001b[0m invalid syntax\n"
     ]
    }
   ],
   "source": [
    "# Q.4. What will happen if a keyword is used as a variable name?\n",
    "# And -> Invalid Syntax\n",
    "\n",
    "and = 5\n",
    "print (and)"
   ]
  },
  {
   "cell_type": "code",
   "execution_count": 4,
   "id": "020eb0c7",
   "metadata": {},
   "outputs": [],
   "source": [
    "# Q.5. For what purpose def keyword is used?\n",
    "# And) def is used to define a functon "
   ]
  },
  {
   "cell_type": "code",
   "execution_count": 6,
   "id": "e2cf78fc",
   "metadata": {},
   "outputs": [
    {
     "name": "stdout",
     "output_type": "stream",
     "text": [
      "10\n"
     ]
    }
   ],
   "source": [
    "# Q.6. What is the operation of this special character ‘\\’?\n",
    "# Ans) It is used in long multiline code \n",
    "\n",
    "x= 1+2+\\\n",
    "3+\\\n",
    "4\n",
    "print(x)"
   ]
  },
  {
   "cell_type": "code",
   "execution_count": 7,
   "id": "bc93d6a6",
   "metadata": {},
   "outputs": [],
   "source": [
    "# Example of a homogeneous list of integers\n",
    "numbers = [1, 2, 3, 4, 5]\n",
    "# Example of a heterogeneous set\n",
    "my_set = {1, 'apple', True, 3.14}\n",
    "# Example of a homogeneous tuple of strings\n",
    "fruits = ('apple', 'banana', 'orange')"
   ]
  },
  {
   "cell_type": "code",
   "execution_count": 8,
   "id": "dd93eaba",
   "metadata": {},
   "outputs": [],
   "source": [
    "# Homogeneous means it can have same data type()\n",
    "# Hetrogeneous means it can have different data type()"
   ]
  },
  {
   "cell_type": "markdown",
   "id": "3a41d330",
   "metadata": {},
   "source": [
    "#Q.8. Explain the mutable and immutable data types with proper explanation & examples.\n",
    "\n",
    "Mutable data - Mutable data types are those that can be changed or modified after they are created. This means you can add, remove, or modify elements within these data types without creating a new object. Some commonly used mutable data types in Python are:\n",
    "\n",
    "List, Dictionary, \n",
    "\n",
    "Immutable Data Types:\n",
    "Immutable data types, in contrast, cannot be changed once they are created. If you want to modify an immutable data type, you need to create a new object with the desired changes. Examples of immutable data types in Python include:\n",
    "\n",
    "String, tupel, intiger, folat, boolien are example of immutabel data type \n"
   ]
  },
  {
   "cell_type": "code",
   "execution_count": 11,
   "id": "6dfac0e1",
   "metadata": {},
   "outputs": [
    {
     "name": "stdout",
     "output_type": "stream",
     "text": [
      "[5, 2, 4]\n"
     ]
    }
   ],
   "source": [
    "#Ex \n",
    "my_list = [1, 2, 3]\n",
    "my_list.append(4)  \n",
    "my_list[0] = 5     \n",
    "my_list.remove(3)  \n",
    "print(my_list)     "
   ]
  },
  {
   "cell_type": "code",
   "execution_count": 10,
   "id": "6d8f154f",
   "metadata": {},
   "outputs": [
    {
     "name": "stdout",
     "output_type": "stream",
     "text": [
      "(1, 2, 3, 4, 5)\n"
     ]
    }
   ],
   "source": [
    "my_tuple = (1, 2, 3)\n",
    "new_tuple = my_tuple + (4, 5) \n",
    "print(new_tuple)               "
   ]
  },
  {
   "cell_type": "markdown",
   "id": "33684f44",
   "metadata": {},
   "source": [
    "Q.9. Write a code to create the given structure using only for loop.\n",
    "*\n",
    "***\n",
    "*****\n",
    "*******\n",
    "*********"
   ]
  },
  {
   "cell_type": "code",
   "execution_count": 19,
   "id": "ea8f524b",
   "metadata": {},
   "outputs": [],
   "source": [
    "def fun(x):\n",
    "    i=0\n",
    "    while i< x:\n",
    "        print (\" \"*(x-i),\"* \"*i)\n",
    "        i=i+1"
   ]
  },
  {
   "cell_type": "code",
   "execution_count": 21,
   "id": "08e83332",
   "metadata": {},
   "outputs": [
    {
     "name": "stdout",
     "output_type": "stream",
     "text": [
      "        \n",
      "       * \n",
      "      * * \n",
      "     * * * \n",
      "    * * * * \n",
      "   * * * * * \n",
      "  * * * * * * \n"
     ]
    }
   ],
   "source": [
    "fun(7)"
   ]
  },
  {
   "cell_type": "markdown",
   "id": "727b6d1a",
   "metadata": {},
   "source": [
    "Q.10. Write a code to create the given structure using while loop.\n",
    "|||||||||\n",
    "|||||||\n",
    "|||||\n",
    "|||\n",
    "|"
   ]
  },
  {
   "cell_type": "code",
   "execution_count": 24,
   "id": "c16f7316",
   "metadata": {},
   "outputs": [],
   "source": [
    "def funs(x):\n",
    "    i=0\n",
    "    while i< x:\n",
    "        print (\" \"*(i),\"| \"*(x-i))\n",
    "        i=i+1"
   ]
  },
  {
   "cell_type": "code",
   "execution_count": 25,
   "id": "29bad742",
   "metadata": {},
   "outputs": [
    {
     "name": "stdout",
     "output_type": "stream",
     "text": [
      " | | | | | | | \n",
      "  | | | | | | \n",
      "   | | | | | \n",
      "    | | | | \n",
      "     | | | \n",
      "      | | \n",
      "       | \n"
     ]
    }
   ],
   "source": [
    "funs(7)"
   ]
  },
  {
   "cell_type": "code",
   "execution_count": 26,
   "id": "9109d5b8",
   "metadata": {},
   "outputs": [
    {
     "data": {
      "text/plain": [
       "'C:\\\\Users\\\\sawan.lukked'"
      ]
     },
     "execution_count": 26,
     "metadata": {},
     "output_type": "execute_result"
    }
   ],
   "source": [
    "%pwd"
   ]
  },
  {
   "cell_type": "markdown",
   "id": "bfddce86",
   "metadata": {},
   "source": [
    "# Assingment 7 21 May"
   ]
  },
  {
   "cell_type": "markdown",
   "id": "ead36b1c",
   "metadata": {},
   "source": [
    "Q.1. Create two int type variables, apply addition, subtraction, division and multiplications\n",
    "and store the results in variables. Then print the data in the following format by calling the\n",
    "variables:\n",
    "First variable is __ & second variable is __.\n",
    "Addition: __ + __ = __\n",
    "Subtraction: __ - __ = __\n",
    "Multiplication: __ * __ = __\n",
    "Division: __ / __ = __"
   ]
  },
  {
   "cell_type": "code",
   "execution_count": 30,
   "id": "b4208733",
   "metadata": {},
   "outputs": [
    {
     "name": "stdout",
     "output_type": "stream",
     "text": [
      "first variable 5 and econd variable is 3\n",
      "addition:5 + 3=8\n",
      "substraction:5-3=2\n",
      "multiplication:5*3=15\n",
      "division:5/3=1.6666666666666667\n"
     ]
    }
   ],
   "source": [
    "x=5\n",
    "y=3\n",
    "\n",
    "add = x+y\n",
    "sub= x-y\n",
    "mul = x*y\n",
    "div = x/y\n",
    "\n",
    "\n",
    "print(f'first variable {x} and econd variable is {y}')\n",
    "print(f'addition:{x} + {y}={add}')\n",
    "print(f'substraction:{x}-{y}={sub}')\n",
    "print(f'multiplication:{x}*{y}={mul}')\n",
    "print(f'division:{x}/{y}={div}')\n"
   ]
  },
  {
   "cell_type": "code",
   "execution_count": 45,
   "id": "d9f01dce",
   "metadata": {},
   "outputs": [
    {
     "name": "stdout",
     "output_type": "stream",
     "text": [
      "1.6666666666666667 \n",
      " 1\n"
     ]
    }
   ],
   "source": [
    "# '/' it devides prvide the value and '//' it provide quotient \n",
    "\n",
    "x=5\n",
    "y=3\n",
    "\n",
    "l = x/y\n",
    "m= x//y\n",
    "\n",
    "print (l,'\\n',m)"
   ]
  },
  {
   "cell_type": "code",
   "execution_count": 47,
   "id": "92112d02",
   "metadata": {},
   "outputs": [
    {
     "name": "stdout",
     "output_type": "stream",
     "text": [
      "8\n",
      "6\n"
     ]
    }
   ],
   "source": [
    "# '**' Exponentiation operator and Bitwise XOR operator (^)\n",
    "result = 2 ** 3\n",
    "print(result)  \n",
    "# \n",
    "result = 5 ^ 3\n",
    "print(result)"
   ]
  },
  {
   "cell_type": "markdown",
   "id": "a047cb53",
   "metadata": {},
   "source": [
    "Q.3. List the logical operators\n",
    "Ans) - And,OR, NOT"
   ]
  },
  {
   "cell_type": "markdown",
   "id": "e0542c6f",
   "metadata": {},
   "source": [
    "Q.4. Explain right shift operator and left shift operator with examples."
   ]
  },
  {
   "cell_type": "code",
   "execution_count": 50,
   "id": "dcb4e02d",
   "metadata": {},
   "outputs": [
    {
     "name": "stdout",
     "output_type": "stream",
     "text": [
      "2\n"
     ]
    }
   ],
   "source": [
    "x = 10    # Binary: 1010\n",
    "result = x >> 2\n",
    "print(result)  # Output: 2"
   ]
  },
  {
   "cell_type": "markdown",
   "id": "1bb569fe",
   "metadata": {},
   "source": [
    "Right Shift (>>): The right shift operator shifts the binary representation of a number to the right by a specified number of positions. Each shift to the right effectively divides the number by 2. It discards the least significant bit (LSB) and fills the most significant bit (MSB) with the sign bit (0 for positive numbers, 1 for negative numbers)."
   ]
  },
  {
   "cell_type": "code",
   "execution_count": 49,
   "id": "b383ecca",
   "metadata": {},
   "outputs": [
    {
     "name": "stdout",
     "output_type": "stream",
     "text": [
      "20\n"
     ]
    }
   ],
   "source": [
    "x = 5    # Binary: 0101\n",
    "\n",
    "result = x << 2\n",
    "print(result)  # Output: 20"
   ]
  },
  {
   "cell_type": "markdown",
   "id": "a2057e0b",
   "metadata": {},
   "source": [
    "Left Shift (<<): The left shift operator shifts the binary representation of a number to the left by a specified number of positions. Each shift to the left effectively multiplies the number by 2. It fills the least significant bits with 0."
   ]
  },
  {
   "cell_type": "code",
   "execution_count": null,
   "id": "4dd83f88",
   "metadata": {},
   "outputs": [],
   "source": [
    "Q.5. Create a list containing int type data of length 15. Then write a code to check if 10 is\n",
    "present in the list or not."
   ]
  },
  {
   "cell_type": "code",
   "execution_count": 57,
   "id": "6ceb37ba",
   "metadata": {},
   "outputs": [
    {
     "name": "stdout",
     "output_type": "stream",
     "text": [
      "true\n"
     ]
    }
   ],
   "source": [
    "l= [1,2,3,4,5,6,7,8,9,11,10,12,12,13,14,16]\n",
    "\n",
    "for i in l:\n",
    "    if i==10:\n",
    "        print('true')\n",
    "    else:\n",
    "        False"
   ]
  },
  {
   "cell_type": "code",
   "execution_count": null,
   "id": "b9ecd48a",
   "metadata": {},
   "outputs": [],
   "source": []
  },
  {
   "cell_type": "code",
   "execution_count": null,
   "id": "5a04419d",
   "metadata": {},
   "outputs": [],
   "source": []
  },
  {
   "cell_type": "code",
   "execution_count": null,
   "id": "856a8583",
   "metadata": {},
   "outputs": [],
   "source": []
  }
 ],
 "metadata": {
  "kernelspec": {
   "display_name": "Python 3 (ipykernel)",
   "language": "python",
   "name": "python3"
  },
  "language_info": {
   "codemirror_mode": {
    "name": "ipython",
    "version": 3
   },
   "file_extension": ".py",
   "mimetype": "text/x-python",
   "name": "python",
   "nbconvert_exporter": "python",
   "pygments_lexer": "ipython3",
   "version": "3.10.9"
  }
 },
 "nbformat": 4,
 "nbformat_minor": 5
}
