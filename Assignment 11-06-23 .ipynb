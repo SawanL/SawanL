{
 "cells": [
  {
   "cell_type": "code",
   "execution_count": null,
   "id": "c96ede95",
   "metadata": {},
   "outputs": [],
   "source": [
    "1. What is a lambda function in Python, and how does it differ from a regular function?"
   ]
  },
  {
   "cell_type": "markdown",
   "id": "7f1a98fc",
   "metadata": {},
   "source": [
    "A lambda function in Python is a small, anonymous function defined using the lambda keyword. It is primarily used for simple and short operations where creating a full-fledged named function is unnecessary."
   ]
  },
  {
   "cell_type": "markdown",
   "id": "d342382e",
   "metadata": {},
   "source": [
    "Key difference \n",
    "\n",
    "Lambda functions are anonymous, meaning they have no specified name and are typically used where a function is required temporarily.\n",
    "They can only consist of a single expression and return the result of that expression.\n",
    "Regular functions in Python are defined using the def keyword, can have multiple statements, and can be reused with their names in the code."
   ]
  },
  {
   "cell_type": "code",
   "execution_count": null,
   "id": "abcef907",
   "metadata": {},
   "outputs": [],
   "source": [
    "2. Can a lambda function in Python have multiple arguments? If yes, how can you define and use\n",
    "them?"
   ]
  },
  {
   "cell_type": "code",
   "execution_count": 4,
   "id": "171b6fa8",
   "metadata": {},
   "outputs": [
    {
     "name": "stdout",
     "output_type": "stream",
     "text": [
      "15\n"
     ]
    }
   ],
   "source": [
    "#yes\n",
    "\n",
    "# Lambda function with two arguments\n",
    "multiply = lambda x, y: x * y\n",
    "\n",
    "# Using the lambda function\n",
    "result = multiply(5, 3)  \n",
    "print(result)"
   ]
  },
  {
   "cell_type": "code",
   "execution_count": null,
   "id": "c786d7ab",
   "metadata": {},
   "outputs": [],
   "source": [
    "3. How are lambda functions typically used in Python? Provide an example use case."
   ]
  },
  {
   "cell_type": "markdown",
   "id": "dba3f58a",
   "metadata": {},
   "source": [
    "Lambda functions in Python are typically used in situations where a small, one-time function is needed, often as an argument to higher-order functions like map(), filter(), and reduce(). They help simplify code by avoiding the need to define a separate named function for short operations."
   ]
  },
  {
   "cell_type": "code",
   "execution_count": 5,
   "id": "96aa91cc",
   "metadata": {},
   "outputs": [
    {
     "name": "stdout",
     "output_type": "stream",
     "text": [
      "[2, 4, 6, 8, 10]\n"
     ]
    }
   ],
   "source": [
    "numbers = [1, 2, 3, 4, 5, 6, 7, 8, 9, 10]\n",
    "\n",
    "# Using lambda function with filter to get only even numbers\n",
    "even_numbers = list(filter(lambda x: x % 2 == 0, numbers))\n",
    "\n",
    "print(even_numbers) "
   ]
  },
  {
   "cell_type": "code",
   "execution_count": null,
   "id": "1d56c441",
   "metadata": {},
   "outputs": [],
   "source": [
    "4. What are the advantages and limitations of lambda functions compared to regular functions in\n",
    "Python?"
   ]
  },
  {
   "cell_type": "markdown",
   "id": "7d25d353",
   "metadata": {},
   "source": [
    "\n",
    "# Advantages of lambda functions:\n",
    "\n",
    "Conciseness: Lambda functions allow for shorter and more compact code, especially for simple operations.\n",
    "Anonymity: They are anonymous, so you can use them directly where they are needed without assigning a name.\n",
    "Use with Higher-order functions: Lambda functions work well as arguments to higher-order functions like map(), filter(), and reduce().\n",
    "Readability: For short operations, lambda functions can enhance code readability by keeping the function definition close to its usage.\n",
    "\n",
    "# Limitations of lambda functions:\n",
    "\n",
    "Single Expression: Lambda functions can only consist of a single expression, which can limit their use for more complex tasks.\n",
    "No Statements: They cannot contain statements or multiple lines of code, making them unsuitable for functions with procedural logic.\n",
    "Lack of Documentation: Being anonymous, lambda functions lack self-descriptive names, making code harder to understand without proper context.\n",
    "Reduced Reusability: Due to their anonymous nature, lambda functions are not reusable across multiple parts of the code, unlike regular functions."
   ]
  },
  {
   "cell_type": "code",
   "execution_count": null,
   "id": "ecaddc52",
   "metadata": {},
   "outputs": [],
   "source": [
    "5. Are lambda functions in Python able to access variables defined outside of their own scope?\n",
    "Explain with an example."
   ]
  },
  {
   "cell_type": "markdown",
   "id": "c44dea15",
   "metadata": {},
   "source": [
    "Yes, lambda functions in Python can access variables defined outside of their own scope. When a lambda function is defined, it captures and remembers the values of variables from the enclosing scope. This behavior allows lambda functions to carry the context in which they were created."
   ]
  },
  {
   "cell_type": "code",
   "execution_count": 8,
   "id": "b755143c",
   "metadata": {},
   "outputs": [
    {
     "name": "stdout",
     "output_type": "stream",
     "text": [
      "20 50\n"
     ]
    }
   ],
   "source": [
    "def multiplier(n):\n",
    "    # Define a lambda function inside the 'multiplier' function\n",
    "    multiply_by_n = lambda x: x * n\n",
    "    return multiply_by_n\n",
    "\n",
    "# Create two functions that multiply by 2 and 5, respectively\n",
    "multiply_by_2 = multiplier(2)\n",
    "multiply_by_5 = multiplier(5)\n",
    "\n",
    "# Use the lambda functions to perform multiplication\n",
    "result1 = multiply_by_2(10) \n",
    "result2 = multiply_by_5(10) \n",
    "\n",
    "print (result1, result2)"
   ]
  },
  {
   "cell_type": "code",
   "execution_count": null,
   "id": "80f47a73",
   "metadata": {},
   "outputs": [],
   "source": [
    "6. Write a lambda function to calculate the square of a given number."
   ]
  },
  {
   "cell_type": "code",
   "execution_count": 10,
   "id": "e0be3157",
   "metadata": {},
   "outputs": [
    {
     "name": "stdout",
     "output_type": "stream",
     "text": [
      "25\n"
     ]
    }
   ],
   "source": [
    "square = lambda x: x ** 2\n",
    "result = square(5)  \n",
    "print(result)"
   ]
  },
  {
   "cell_type": "code",
   "execution_count": null,
   "id": "f0dafe8e",
   "metadata": {},
   "outputs": [],
   "source": [
    "7. Create a lambda function to find the maximum value in a list of integers."
   ]
  },
  {
   "cell_type": "code",
   "execution_count": 11,
   "id": "dfce79fd",
   "metadata": {},
   "outputs": [
    {
     "name": "stdout",
     "output_type": "stream",
     "text": [
      "92\n"
     ]
    }
   ],
   "source": [
    "find_max = lambda lst: max(lst)\n",
    "numbers = [12, 45, 6, 78, 31, 92, 53]\n",
    "result = find_max(numbers) \n",
    "print(result)\n"
   ]
  },
  {
   "cell_type": "code",
   "execution_count": null,
   "id": "42d52632",
   "metadata": {},
   "outputs": [],
   "source": [
    "8. Implement a lambda function to filter out all the even numbers from a list of integers."
   ]
  },
  {
   "cell_type": "code",
   "execution_count": 12,
   "id": "826cd56b",
   "metadata": {},
   "outputs": [
    {
     "name": "stdout",
     "output_type": "stream",
     "text": [
      "[2, 4, 6, 8, 10]\n"
     ]
    }
   ],
   "source": [
    "filter_even = lambda lst: list(filter(lambda x: x % 2 == 0, lst))\n",
    "numbers = [1, 2, 3, 4, 5, 6, 7, 8, 9, 10]\n",
    "result = filter_even(numbers)  # This will set 'result' to [2, 4, 6, 8, 10]\n",
    "print(result)"
   ]
  },
  {
   "cell_type": "code",
   "execution_count": null,
   "id": "6b78c5ef",
   "metadata": {},
   "outputs": [],
   "source": [
    "9. Write a lambda function to sort a list of strings in ascending order based on the length of each string."
   ]
  },
  {
   "cell_type": "code",
   "execution_count": 13,
   "id": "8bca987b",
   "metadata": {},
   "outputs": [
    {
     "name": "stdout",
     "output_type": "stream",
     "text": [
      "['apple', 'grape', 'orange', 'banana', 'watermelon']\n"
     ]
    }
   ],
   "source": [
    "sort_by_length = lambda lst: sorted(lst, key=lambda x: len(x))\n",
    "words = [\"apple\", \"orange\", \"banana\", \"grape\", \"watermelon\"]\n",
    "\n",
    "result = sort_by_length(words)  # This will set 'result' to ['grape', 'apple', 'orange', 'banana', 'watermelon']\n",
    "print(result)"
   ]
  },
  {
   "cell_type": "code",
   "execution_count": null,
   "id": "040fd704",
   "metadata": {},
   "outputs": [],
   "source": [
    "10. Create a lambda function that takes two lists as input and returns a new list containing the \n",
    "common elements between the two lists."
   ]
  },
  {
   "cell_type": "code",
   "execution_count": 14,
   "id": "1970a961",
   "metadata": {},
   "outputs": [
    {
     "name": "stdout",
     "output_type": "stream",
     "text": [
      "[4, 5]\n"
     ]
    }
   ],
   "source": [
    "find_common_elements = lambda list1, list2: list(filter(lambda x: x in list2, list1))\n",
    "list1 = [1, 2, 3, 4, 5]\n",
    "list2 = [4, 5, 6, 7, 8]\n",
    "\n",
    "result = find_common_elements(list1, list2)  # This will set 'result' to [4, 5]\n",
    "print(result)"
   ]
  },
  {
   "cell_type": "code",
   "execution_count": null,
   "id": "e3627e6a",
   "metadata": {},
   "outputs": [],
   "source": [
    "11. Write a recursive function to calculate the factorial of a given positive integer."
   ]
  },
  {
   "cell_type": "code",
   "execution_count": 26,
   "id": "30bbad55",
   "metadata": {},
   "outputs": [],
   "source": [
    "def fact(n):\n",
    "    if n==1:\n",
    "        return 1\n",
    "    else:\n",
    "        return n * fact(n-1)\n",
    "        "
   ]
  },
  {
   "cell_type": "code",
   "execution_count": 27,
   "id": "f6a29e80",
   "metadata": {},
   "outputs": [
    {
     "data": {
      "text/plain": [
       "24"
      ]
     },
     "execution_count": 27,
     "metadata": {},
     "output_type": "execute_result"
    }
   ],
   "source": [
    "fact(4)"
   ]
  },
  {
   "cell_type": "code",
   "execution_count": null,
   "id": "f52a3dc2",
   "metadata": {},
   "outputs": [],
   "source": [
    "12. Implement a recursive function to compute the nth Fibonacci number."
   ]
  },
  {
   "cell_type": "code",
   "execution_count": 31,
   "id": "1676b393",
   "metadata": {},
   "outputs": [],
   "source": [
    "def fib(n):\n",
    "    if n==1:\n",
    "        return 1\n",
    "    elif n==2:\n",
    "        return 1\n",
    "    else:\n",
    "        return fib(n-1)+fib(n-2)\n",
    "        "
   ]
  },
  {
   "cell_type": "code",
   "execution_count": 35,
   "id": "2cc6d6cd",
   "metadata": {},
   "outputs": [
    {
     "data": {
      "text/plain": [
       "8"
      ]
     },
     "execution_count": 35,
     "metadata": {},
     "output_type": "execute_result"
    }
   ],
   "source": [
    "fib(6)"
   ]
  },
  {
   "cell_type": "code",
   "execution_count": null,
   "id": "446ca592",
   "metadata": {},
   "outputs": [],
   "source": [
    "13. Create a recursive function to find the sum of all the elements in a given list."
   ]
  },
  {
   "cell_type": "code",
   "execution_count": 63,
   "id": "112868a6",
   "metadata": {},
   "outputs": [],
   "source": [
    "def sum_l(l):\n",
    "    n = len(l)\n",
    "    if n==1:\n",
    "        return l[0]\n",
    "    else:\n",
    "        return l[n-1]+sum_l(l[0:n-1:1])"
   ]
  },
  {
   "cell_type": "code",
   "execution_count": null,
   "id": "09d8b8d6",
   "metadata": {},
   "outputs": [],
   "source": []
  },
  {
   "cell_type": "code",
   "execution_count": 66,
   "id": "25afbe5c",
   "metadata": {},
   "outputs": [
    {
     "data": {
      "text/plain": [
       "150"
      ]
     },
     "execution_count": 66,
     "metadata": {},
     "output_type": "execute_result"
    }
   ],
   "source": [
    "l = [10, 20, 30, 40, 50]\n",
    "sum_l(l)"
   ]
  },
  {
   "cell_type": "code",
   "execution_count": null,
   "id": "54efa028",
   "metadata": {},
   "outputs": [],
   "source": [
    "14. Write a recursive function to determine whether a given string is a palindrome."
   ]
  },
  {
   "cell_type": "code",
   "execution_count": 67,
   "id": "264d17c1",
   "metadata": {},
   "outputs": [
    {
     "name": "stdout",
     "output_type": "stream",
     "text": [
      "True\n",
      "True\n"
     ]
    }
   ],
   "source": [
    "def is_palindrome_recursive(s):\n",
    "    # Base case: If the string has one or zero characters, it is a palindrome\n",
    "    if len(s) <= 1:\n",
    "        return True\n",
    "    \n",
    "    # Recursive case: Check first and last characters and make the recursive call\n",
    "    if s[0] == s[-1]:\n",
    "        return is_palindrome_recursive(s[1:-1])\n",
    "    else:\n",
    "        return False\n",
    "\n",
    "print(is_palindrome_recursive(\"radar\"))   \n",
    "print(is_palindrome_recursive(\"level\"))"
   ]
  },
  {
   "cell_type": "code",
   "execution_count": null,
   "id": "8ff134c6",
   "metadata": {},
   "outputs": [],
   "source": [
    "15. Implement a recursive function to find the greatest common divisor (GCD) of two positive integers"
   ]
  },
  {
   "cell_type": "code",
   "execution_count": 81,
   "id": "a7565f34",
   "metadata": {},
   "outputs": [],
   "source": [
    "def gdc(x,y):\n",
    "    if x==1:\n",
    "        return 1\n",
    "    else:\n",
    "        i=2\n",
    "        while i<=x:\n",
    "            if x%i==0 and y%i==0:\n",
    "                return i* gdc(x/i,y/i)\n",
    "            else:\n",
    "                i=i+1"
   ]
  },
  {
   "cell_type": "code",
   "execution_count": 82,
   "id": "afcd6307",
   "metadata": {},
   "outputs": [
    {
     "data": {
      "text/plain": [
       "7"
      ]
     },
     "execution_count": 82,
     "metadata": {},
     "output_type": "execute_result"
    }
   ],
   "source": [
    "gdc(7,49)"
   ]
  },
  {
   "cell_type": "code",
   "execution_count": null,
   "id": "8c4925fc",
   "metadata": {},
   "outputs": [],
   "source": []
  },
  {
   "cell_type": "code",
   "execution_count": null,
   "id": "3aa3c860",
   "metadata": {},
   "outputs": [],
   "source": []
  },
  {
   "cell_type": "code",
   "execution_count": null,
   "id": "abd7ae5d",
   "metadata": {},
   "outputs": [],
   "source": []
  }
 ],
 "metadata": {
  "kernelspec": {
   "display_name": "Python 3 (ipykernel)",
   "language": "python",
   "name": "python3"
  },
  "language_info": {
   "codemirror_mode": {
    "name": "ipython",
    "version": 3
   },
   "file_extension": ".py",
   "mimetype": "text/x-python",
   "name": "python",
   "nbconvert_exporter": "python",
   "pygments_lexer": "ipython3",
   "version": "3.10.9"
  }
 },
 "nbformat": 4,
 "nbformat_minor": 5
}
