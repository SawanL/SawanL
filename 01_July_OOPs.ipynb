{
 "cells": [
  {
   "cell_type": "markdown",
   "id": "51faf7e9",
   "metadata": {},
   "source": [
    "Q1) The primary goal of Object-Oriented Programming (OOP) is to:\n",
    "\n",
    "Model real-world entities and their interactions within a computer program.\n",
    "Achieve code reusability, maintainability, and scalability through encapsulation and abstraction.\n",
    "Use classes as blueprints for creating objects, promoting modularity and organization.\n",
    "Employ inheritance to facilitate code reuse and establish hierarchical relationships between classes."
   ]
  },
  {
   "cell_type": "markdown",
   "id": "e10a5188",
   "metadata": {},
   "source": [
    "Q2 ) What is an object in Python?\n",
    "\n",
    "Ans) In Python, an object is a fundamental concept of Object-Oriented Programming (OOP) and represents a specific instance of a class. Everything in Python is an object, including integers, strings, lists, functions, and even classes themselves. Objects have attributes (data) and methods (functions) associated with them."
   ]
  },
  {
   "cell_type": "markdown",
   "id": "3905f8f6",
   "metadata": {},
   "source": [
    "Q3)  What is a class in Python?\n",
    "\n",
    "And) In Python, a class is a blueprint or a template for creating objects. It is a fundamental concept of Object-Oriented Programming (OOP) that allows you to define a new data type with its attributes (data) and methods (functions). A class acts as a structure that encapsulates data and behavior related to a specific entity or concept."
   ]
  },
  {
   "cell_type": "markdown",
   "id": "d6f7b98f",
   "metadata": {},
   "source": [
    "Q4) What are attributes and methods in a class?\n",
    "\n",
    "Attributes:\n",
    "Attributes are the data members of a class, representing the characteristics or properties of objects. They are defined within the class and hold specific values that differentiate one object from another. Attributes can be of any data type, such as integers, strings, lists, or even other objects.\n",
    "\n",
    "Methods:\n",
    "Methods are functions defined within a class that define the behavior of objects. They can operate on the attributes of the class and perform various actions or computations. Methods are useful for implementing the functionality associated with the class and enabling interactions with objects."
   ]
  },
  {
   "cell_type": "code",
   "execution_count": 2,
   "id": "fd5bd0e4",
   "metadata": {},
   "outputs": [
    {
     "name": "stdout",
     "output_type": "stream",
     "text": [
      "Object `Python` not found.\n",
      "Blue\n",
      "Red\n",
      "4\n",
      "4\n"
     ]
    }
   ],
   "source": [
    "Q5). What is the difference between class variables and instance variables in Python?\n",
    "\n",
    "class Car:\n",
    "    # Class variable\n",
    "    wheels = 4\n",
    "    # instance varible\n",
    "    def __init__(self, color, brand):\n",
    "        self.color = color\n",
    "        self.brand = brand\n",
    "        \n",
    "car1 = Car(\"Blue\", \"Toyota\")\n",
    "car2 = Car(\"Red\", \"Honda\")\n",
    "\n",
    "print(car1.color)  # Output: Blue\n",
    "print(car2.color)  # Output: Red\n",
    "print(car1.wheels) # Output: 4 (class variable shared by all instances)\n",
    "print(car2.wheels) # Output: 4 (class variable shared by all instances)\n"
   ]
  },
  {
   "cell_type": "code",
   "execution_count": null,
   "id": "89b126e3",
   "metadata": {},
   "outputs": [],
   "source": [
    "# class variable is same for all Objects\n",
    "# whereas instance variable are different for different objects  "
   ]
  },
  {
   "cell_type": "markdown",
   "id": "09e7d080",
   "metadata": {},
   "source": [
    "Q6) What is the purpose of the self parameter in Python class methods?\n",
    "\n",
    "\n",
    "Ans) The self parameter in Python class methods serves several crucial purposes.\n",
    "\n",
    "Instance Reference: self is a reference to the current instance of the class. It allows the method to access and operate on the attributes and methods of the specific object calling the method.\n",
    "\n",
    "Object Identity: By using self, methods can distinguish between different instances of the same class, ensuring that each object's attributes and state are manipulated independently.\n",
    "\n",
    "Attribute Access: Through self, methods can access and modify instance variables (attributes) associated with the object, providing a way to store and retrieve data unique to each instance."
   ]
  },
  {
   "cell_type": "markdown",
   "id": "2763cb46",
   "metadata": {},
   "source": [
    "7. For a library management system, you have to design the \"Book\" class with OOP\n",
    "principles in mind. The “Book” class will have following attributes:\n",
    "a. title: Represents the title of the book.\n",
    "b. author: Represents the author(s) of the book.\n",
    "c. isbn: Represents the ISBN (International Standard Book Number) of the book.\n",
    "d. publication_year: Represents the year of publication of the book.\n",
    "e. available_copies: Represents the number of copies available for checkout.\n",
    "The class will also include the following methods:\n",
    "a. check_out(self): Decrements the available copies by one if there are copies\n",
    "available for checkout.\n",
    "b. return_book(self): Increments the available copies by one when a book is\n",
    "returned.\n",
    "c. display_book_info(self): Displays the information about the book, including its\n",
    "attributes and the number of available copies.\n"
   ]
  },
  {
   "cell_type": "code",
   "execution_count": 15,
   "id": "65736c35",
   "metadata": {},
   "outputs": [],
   "source": [
    "class Book:\n",
    "    def __init__(self, title,author,isbn, publication_year,available_copies):\n",
    "        self.title= title\n",
    "        self.author= author\n",
    "        self.isbn= isbn\n",
    "        self.publication_year= publication_year\n",
    "        self.available_copies= available_copies\n",
    "\n",
    "    def check_out(self):\n",
    "        print(f'total no of copies {self.available_copies}')\n",
    "    \n",
    "    def return_book(self):\n",
    "        self.available_copies= self.available_copies+1\n",
    "        print(f'update copies are {self.available_copies}')\n",
    "    \n",
    "    def display_book_info(self):\n",
    "        print(f'{self.title}, {self.isbn}, {self.available_copies}')\n",
    "        "
   ]
  },
  {
   "cell_type": "code",
   "execution_count": 16,
   "id": "05246d32",
   "metadata": {},
   "outputs": [],
   "source": [
    "book1 = Book('Rkb','Lallan',124, 1069, 69 )"
   ]
  },
  {
   "cell_type": "code",
   "execution_count": 21,
   "id": "8bee8b3a",
   "metadata": {},
   "outputs": [
    {
     "name": "stdout",
     "output_type": "stream",
     "text": [
      "Rkb, 124, 69\n"
     ]
    }
   ],
   "source": [
    "book1.display_book_info()\n"
   ]
  },
  {
   "cell_type": "code",
   "execution_count": 22,
   "id": "2e5a437d",
   "metadata": {},
   "outputs": [
    {
     "name": "stdout",
     "output_type": "stream",
     "text": [
      "update copies are 70\n"
     ]
    }
   ],
   "source": [
    "book1.return_book()"
   ]
  },
  {
   "cell_type": "code",
   "execution_count": 23,
   "id": "0f038c00",
   "metadata": {},
   "outputs": [
    {
     "name": "stdout",
     "output_type": "stream",
     "text": [
      "total no of copies 70\n"
     ]
    }
   ],
   "source": [
    "book1.check_out()"
   ]
  },
  {
   "cell_type": "markdown",
   "id": "680e2634",
   "metadata": {},
   "source": [
    "8. For a ticket booking system, you have to design the \"Ticket\" class with OOP\n",
    "principles in mind. The “Ticket” class should have the following attributes:\n",
    "a. ticket_id: Represents the unique identifier for the ticket.\n",
    "b. event_name: Represents the name of the event.\n",
    "c. event_date: Represents the date of the event.\n",
    "d. venue: Represents the venue of the event.\n",
    "e. seat_number: Represents the seat number associated with the ticket.\n",
    "f. price: Represents the price of the ticket.\n",
    "g. is_reserved: Represents the reservation status of the ticket.\n",
    "The class also includes the following methods:\n",
    "a. reserve_ticket(self): Marks the ticket as reserved if it is not already reserved.\n",
    "b. cancel_reservation(self): Cancels the reservation of the ticket if it is already\n",
    "reserved.\n",
    "c. display_ticket_info(self): Displays the information about the ticket, including its\n",
    "attributes and reservation status."
   ]
  },
  {
   "cell_type": "code",
   "execution_count": 53,
   "id": "ff5ea796",
   "metadata": {},
   "outputs": [],
   "source": [
    "class Ticket:\n",
    "    def __init__(self,ticket_id,event_name,event_date, venue,seat_number,price,is_reserved):\n",
    "        self.ticket_id= ticket_id\n",
    "        self.event_name= event_name\n",
    "        self.event_date= event_date\n",
    "        self.venue= venue\n",
    "        self.seat_number=seat_number\n",
    "        self.price= price\n",
    "        self.is_reserved= is_reserved \n",
    "    \n",
    "    def reserve_ticket(self):\n",
    "        if self.is_reserved != 'no':\n",
    "            print(f'{self.ticket_id} is already reserved')\n",
    "        else:\n",
    "            print(f'{self.ticket_id} is reserved')\n",
    "            self.is_reserved= 'yes'\n",
    "    \n",
    "    def cancel_reservation(self):\n",
    "        self.is_reserved= 'no'\n",
    "        print (f'{self.ticket_id} is now cancelled')\n",
    "    \n",
    "    def display_ticket_info(self):\n",
    "        print(f'{self.ticket_id},{self.is_reserved}')\n",
    "    "
   ]
  },
  {
   "cell_type": "code",
   "execution_count": 54,
   "id": "0353974b",
   "metadata": {},
   "outputs": [],
   "source": [
    "ticket1= Ticket(123,'bookmyshow','july_seventh','Pune',47,200,'no')"
   ]
  },
  {
   "cell_type": "code",
   "execution_count": 55,
   "id": "c1677e56",
   "metadata": {},
   "outputs": [
    {
     "name": "stdout",
     "output_type": "stream",
     "text": [
      "123,no\n"
     ]
    }
   ],
   "source": [
    "ticket1.display_ticket_info()"
   ]
  },
  {
   "cell_type": "code",
   "execution_count": 56,
   "id": "7ed8c796",
   "metadata": {},
   "outputs": [
    {
     "name": "stdout",
     "output_type": "stream",
     "text": [
      "123 is reserved\n"
     ]
    }
   ],
   "source": [
    "ticket1.reserve_ticket()"
   ]
  },
  {
   "cell_type": "code",
   "execution_count": 57,
   "id": "d4252fc0",
   "metadata": {},
   "outputs": [
    {
     "name": "stdout",
     "output_type": "stream",
     "text": [
      "123,yes\n"
     ]
    }
   ],
   "source": [
    "ticket1.display_ticket_info()"
   ]
  },
  {
   "cell_type": "code",
   "execution_count": 58,
   "id": "b7179ed3",
   "metadata": {},
   "outputs": [
    {
     "name": "stdout",
     "output_type": "stream",
     "text": [
      "123 is now cancelled\n"
     ]
    }
   ],
   "source": [
    "ticket1.cancel_reservation()"
   ]
  },
  {
   "cell_type": "code",
   "execution_count": null,
   "id": "e1efb256",
   "metadata": {},
   "outputs": [],
   "source": [
    "Q9)  . You are creating a shopping cart for an e-commerce website. Using OOP to model\n",
    "the \"ShoppingCart\" functionality the class should contain following attributes and\n",
    "methods:\n",
    "a. items: Represents the list of items in the shopping cart.\n",
    "    The class also includes the following methods:\n",
    "a. add_item(self, item): Adds an item to the shopping cart by appending it to the\n",
    "list of items.\n",
    "b. remove_item(self, item): Removes an item from the shopping cart if it exists in\n",
    "the list.\n",
    "c. view_cart(self): Displays the items currently present in the shopping cart.\n",
    "d. clear_cart(self): Clears all items from the shopping cart by reassigning an\n",
    "empty list to the items attribute."
   ]
  },
  {
   "cell_type": "code",
   "execution_count": 58,
   "id": "a7fbbff3",
   "metadata": {},
   "outputs": [],
   "source": [
    "class Shopping_cart():\n",
    "    def __init__(self, *items):\n",
    "        self.items = list(items)\n",
    "\n",
    "    def add_items(self,*new_items):\n",
    "        self.items.extend(new_items)\n",
    "\n",
    "    def show_items(self):\n",
    "        print(self.items)\n",
    "    \n",
    "    def remove_items(self,rem):\n",
    "        self.items.remove(rem)\n",
    "    \n",
    "    def clear_cart(self):\n",
    "        self.items.clear()\n"
   ]
  },
  {
   "cell_type": "code",
   "execution_count": 73,
   "id": "91a52e0b",
   "metadata": {},
   "outputs": [],
   "source": [
    "y = Shopping_cart('a','b','c')"
   ]
  },
  {
   "cell_type": "code",
   "execution_count": 74,
   "id": "3d2595e0",
   "metadata": {},
   "outputs": [
    {
     "name": "stdout",
     "output_type": "stream",
     "text": [
      "['a', 'b', 'c']\n"
     ]
    }
   ],
   "source": [
    "y.show_items()"
   ]
  },
  {
   "cell_type": "code",
   "execution_count": 75,
   "id": "90cdbac4",
   "metadata": {},
   "outputs": [],
   "source": [
    "y.add_items('d','e')"
   ]
  },
  {
   "cell_type": "code",
   "execution_count": 76,
   "id": "088d8f25",
   "metadata": {},
   "outputs": [
    {
     "name": "stdout",
     "output_type": "stream",
     "text": [
      "['a', 'b', 'c', 'd', 'e']\n"
     ]
    }
   ],
   "source": [
    "y.show_items()"
   ]
  },
  {
   "cell_type": "code",
   "execution_count": 78,
   "id": "a5e6b22f",
   "metadata": {},
   "outputs": [],
   "source": [
    "y.remove_items('a')"
   ]
  },
  {
   "cell_type": "code",
   "execution_count": 79,
   "id": "71652968",
   "metadata": {},
   "outputs": [
    {
     "name": "stdout",
     "output_type": "stream",
     "text": [
      "['b', 'c', 'd', 'e']\n"
     ]
    }
   ],
   "source": [
    "y.show_items()"
   ]
  },
  {
   "cell_type": "code",
   "execution_count": 80,
   "id": "a14f0511",
   "metadata": {},
   "outputs": [],
   "source": [
    "y.clear_cart()"
   ]
  },
  {
   "cell_type": "code",
   "execution_count": 81,
   "id": "0e6fbca9",
   "metadata": {},
   "outputs": [
    {
     "name": "stdout",
     "output_type": "stream",
     "text": [
      "[]\n"
     ]
    }
   ],
   "source": [
    "y.show_items()"
   ]
  },
  {
   "cell_type": "code",
   "execution_count": null,
   "id": "d0648825",
   "metadata": {},
   "outputs": [],
   "source": [
    "Q10)  . Imagine a school management system. You have to design the \"Student\" class using\n",
    "OOP concepts.The “Student” class has the following attributes:\n",
    "a. name: Represents the name of the student.\n",
    "b. age: Represents the age of the student.\n",
    "c. grade: Represents the grade or class of the student.\n",
    "d. student_id: Represents the unique identifier for the student.\n",
    "e. attendance: Represents the attendance record of the student.\n",
    "The class should also include the following methods:\n",
    "a. update_attendance(self, date, status): Updates the attendance record of the\n",
    "student for a given date with the provided status (e.g., present or absent).\n",
    "b. get_attendance(self): Returns the attendance record of the student.\n",
    "c. get_average_attendance(self): Calculates and returns the average\n",
    "attendance percentage of the student based on their attendance record.\n"
   ]
  },
  {
   "cell_type": "code",
   "execution_count": 166,
   "id": "3295657d",
   "metadata": {},
   "outputs": [],
   "source": [
    "class Student:\n",
    "       \n",
    "    def __init__(self, name, age, grade, student_id, attendance):\n",
    "        self.name= name\n",
    "        self.age =age\n",
    "        self.grade = grade\n",
    "        self.student_id= student_id\n",
    "        self.attendance= attendance\n",
    "    \n",
    "    def update_attendance(self,date, att):\n",
    "        if att=='yes':\n",
    "            self.attendance= self.attendance +1\n",
    "        Date.append(date)\n",
    "    \n",
    "    def get_attendance(self):\n",
    "        print(self.student_id, self.attendance)\n",
    "        \n",
    "    def get_average_attendance(self):\n",
    "        ave_att = self.attendance* 100/ len(Date)\n",
    "        print(ave_att)\n",
    "        \n",
    "Date= []    "
   ]
  },
  {
   "cell_type": "code",
   "execution_count": 167,
   "id": "c58533d6",
   "metadata": {},
   "outputs": [],
   "source": [
    "stu1= Student('sawan',30,'12th',1234,0)"
   ]
  },
  {
   "cell_type": "code",
   "execution_count": 168,
   "id": "adacb28a",
   "metadata": {},
   "outputs": [],
   "source": [
    "stu1.update_attendance('July_7th', 'yes')"
   ]
  },
  {
   "cell_type": "code",
   "execution_count": 169,
   "id": "d85d55c5",
   "metadata": {},
   "outputs": [],
   "source": [
    "stu1.update_attendance('July_6th', 'yes')"
   ]
  },
  {
   "cell_type": "code",
   "execution_count": 170,
   "id": "9c3521a5",
   "metadata": {},
   "outputs": [],
   "source": [
    "stu1.update_attendance('July_5th', 'no')"
   ]
  },
  {
   "cell_type": "code",
   "execution_count": 171,
   "id": "2a0433e1",
   "metadata": {},
   "outputs": [
    {
     "name": "stdout",
     "output_type": "stream",
     "text": [
      "1234 2\n"
     ]
    }
   ],
   "source": [
    "stu1.get_attendance()"
   ]
  },
  {
   "cell_type": "code",
   "execution_count": 172,
   "id": "2a3280fd",
   "metadata": {},
   "outputs": [
    {
     "name": "stdout",
     "output_type": "stream",
     "text": [
      "66.66666666666667\n"
     ]
    }
   ],
   "source": [
    "stu1.get_average_attendance()"
   ]
  },
  {
   "cell_type": "code",
   "execution_count": 173,
   "id": "0fe27223",
   "metadata": {},
   "outputs": [
    {
     "name": "stdout",
     "output_type": "stream",
     "text": [
      "['July_7th', 'July_6th', 'July_5th']\n"
     ]
    }
   ],
   "source": [
    "print(Date)"
   ]
  },
  {
   "cell_type": "code",
   "execution_count": null,
   "id": "e0c785bf",
   "metadata": {},
   "outputs": [],
   "source": []
  },
  {
   "cell_type": "code",
   "execution_count": null,
   "id": "11464c86",
   "metadata": {},
   "outputs": [],
   "source": []
  }
 ],
 "metadata": {
  "kernelspec": {
   "display_name": "Python 3 (ipykernel)",
   "language": "python",
   "name": "python3"
  },
  "language_info": {
   "codemirror_mode": {
    "name": "ipython",
    "version": 3
   },
   "file_extension": ".py",
   "mimetype": "text/x-python",
   "name": "python",
   "nbconvert_exporter": "python",
   "pygments_lexer": "ipython3",
   "version": "3.10.9"
  }
 },
 "nbformat": 4,
 "nbformat_minor": 5
}
