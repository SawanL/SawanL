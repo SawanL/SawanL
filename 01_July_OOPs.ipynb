{
 "cells": [
  {
   "cell_type": "raw",
   "id": "7b1464a4",
   "metadata": {},
   "source": [
    "1.What is the primary goal of Object-Oriented Programming (OOP)?\n",
    "Ans.1.\n",
    "Object-Oriented Programming language is based on classes and objects. it is used to structure a program into a simple reusable piece of code. The software program runs by having multiple objects interact with objects to create large programs.\n",
    "\n",
    "Goals of Object-Oriented Programming language:\n",
    "\n",
    "Adatability-means the software may run on different generations and grows over a long lifetime.\n",
    "\n",
    "To reuse the code in which child classes uses the properties of base class.\n",
    "\n",
    "To hold entire data into a single object such that it would be easy to pass this to other methods and objects.\n",
    "\n",
    "Multiprocessing is also in Object-Oriented Programming.\n",
    "\n",
    "Binding data to avoid data loss.\n",
    "\n",
    "Robustness-it means complex programs should operate correctly."
   ]
  },
  {
   "cell_type": "code",
   "execution_count": null,
   "id": "bcfdbcd0",
   "metadata": {},
   "outputs": [],
   "source": []
  },
  {
   "cell_type": "raw",
   "id": "158cad17",
   "metadata": {},
   "source": [
    "2.What is an object in Python?\n",
    "Ans.2.\n",
    "Objects are the instances of a particular class. Every other element in Python will be an object of some class, such as the string, dictionary, number(10,40), etc. will be an object of some corresponding built-in class(int, str) in Python. Objects are different copies of the class with some actual values."
   ]
  },
  {
   "cell_type": "code",
   "execution_count": null,
   "id": "58d7cf4a",
   "metadata": {},
   "outputs": [],
   "source": []
  },
  {
   "cell_type": "raw",
   "id": "194ec442",
   "metadata": {},
   "source": [
    "3.What is a class in Python?\n",
    "Ans.3.\n",
    "A class is a blueprint or prototype from which objects are created. Classes provide a means of bundling data and functionality together. Creating a new class creates a new type of object, allowing new instances of that type to be made. Each class instance can have attributes attached to it for maintaining its state. Class instances can also have methods (defined by their class) for modifying their state."
   ]
  },
  {
   "cell_type": "code",
   "execution_count": 1,
   "id": "17b819f7",
   "metadata": {},
   "outputs": [
    {
     "name": "stdout",
     "output_type": "stream",
     "text": [
      "hello\n"
     ]
    }
   ],
   "source": [
    "#Create a class named MyClass, with a property named greet:\n",
    "class MyClass:\n",
    "  greet = 'hello'\n",
    "\n",
    "#Now we can use the class named MyClass to create objects:\n",
    "#Create an object named p1, and print the value of x:\n",
    "p1 = MyClass()\n",
    "print(p1.greet)\n"
   ]
  },
  {
   "cell_type": "code",
   "execution_count": null,
   "id": "b39305a3",
   "metadata": {},
   "outputs": [],
   "source": []
  },
  {
   "cell_type": "raw",
   "id": "d74c99c9",
   "metadata": {},
   "source": [
    "4.What are attributes and methods in a class?\n",
    "Ans.4.\n",
    "Any variable that is bound in a class is a class attribute . Any function defined within a class is a method . Methods receive an instance of the class, conventionally called self , as the first argument."
   ]
  },
  {
   "cell_type": "code",
   "execution_count": 4,
   "id": "18796bbe",
   "metadata": {},
   "outputs": [
    {
     "name": "stdout",
     "output_type": "stream",
     "text": [
      "John(36)\n"
     ]
    }
   ],
   "source": [
    "class Person:\n",
    "    def __init__(self, name, age):\n",
    "        self.name = name           #attributes\n",
    "        self.age = age\n",
    "\n",
    "    def __str__(self):              #method\n",
    "        return f\"{self.name}({self.age})\"\n",
    "\n",
    "p1 = Person(\"John\", 36)\n",
    "\n",
    "print(p1)"
   ]
  },
  {
   "cell_type": "code",
   "execution_count": null,
   "id": "1be703b1",
   "metadata": {},
   "outputs": [],
   "source": []
  },
  {
   "cell_type": "raw",
   "id": "be450927",
   "metadata": {},
   "source": [
    "5.What is the difference between class variables and instance variables in Python?\n",
    "Ans.5.\n",
    "Class variables are useful for storing data that is shared among all instances of a class, such as constants or default values. Instance variables are used to store data that is unique to each instance of a class, such as object properties.\n",
    "\n",
    "Class attributes are class variables that are inherited by every object of a class. The value of class attributes remain the same for every new object.\n",
    "\n",
    "Like you will see in the examples in this section, class attributes are defined outside the __init__() function.\n",
    "\n",
    "On the other hand, instance attributes, which are defined in the __init__() function, are class variables that allow us to define different values for each object of a class."
   ]
  },
  {
   "cell_type": "code",
   "execution_count": 5,
   "id": "2ca0b34a",
   "metadata": {},
   "outputs": [
    {
     "name": "stdout",
     "output_type": "stream",
     "text": [
      "Jane\n",
      "John\n"
     ]
    }
   ],
   "source": [
    "class Student:\n",
    "    school = \"ineuron\"\n",
    "    \n",
    "    def __init__(self, name, course):\n",
    "        self.name = name\n",
    "        self.course = course\n",
    "    \n",
    "Student1 = Student(\"Jane\", \"JavaScript\")\n",
    "Student2 = Student(\"John\", \"Python\")\n",
    "\n",
    "print(Student1.name) # Jane\n",
    "print(Student2.name) # John"
   ]
  },
  {
   "cell_type": "code",
   "execution_count": null,
   "id": "e09ac7c3",
   "metadata": {},
   "outputs": [],
   "source": []
  },
  {
   "cell_type": "raw",
   "id": "664f5190",
   "metadata": {},
   "source": [
    "6.What is the purpose of the self parameter in Python class methods?\n",
    "Ans.6.\n",
    "The self parameter is a reference to the current instance of the class, and is used to access variables that belongs to the class.It does not have to be named self , you can call it whatever you like, but it has to be the first parameter of any function in the class."
   ]
  },
  {
   "cell_type": "code",
   "execution_count": 11,
   "id": "5dc2b200",
   "metadata": {},
   "outputs": [
    {
     "name": "stdout",
     "output_type": "stream",
     "text": [
      "Hello my name is John\n"
     ]
    }
   ],
   "source": [
    "#Use the words mysillyobject and abc instead of self:\n",
    "class Person:\n",
    "    def __init__(mysillyobject, name, age):\n",
    "        mysillyobject.name = name\n",
    "        mysillyobject.age = age\n",
    "\n",
    "    def myfunc(abc):\n",
    "        print(\"Hello my name is \" + abc.name)\n",
    "\n",
    "p1 = Person(\"John\", 36)\n",
    "p1.myfunc()"
   ]
  },
  {
   "cell_type": "code",
   "execution_count": null,
   "id": "4cc51da5",
   "metadata": {},
   "outputs": [],
   "source": []
  },
  {
   "cell_type": "raw",
   "id": "8f7736fc",
   "metadata": {},
   "source": [
    "7.For a library management system, you have to design the \"Book\" class with OOP\n",
    "principles in mind. The “Book” class will have following attributes:\n",
    "a. title: Represents the title of the book.\n",
    "b. author: Represents the author(s) of the book.\n",
    "c. isbn: Represents the ISBN (International Standard Book Number) of the book.\n",
    "d. publication_year: Represents the year of publication of the book.\n",
    "e. available_copies: Represents the number of copies available for checkout.\n",
    "\n",
    "The class will also include the following methods:\n",
    "a. check_out(self): Decrements the available copies by one if there are copies\n",
    "available for checkout.\n",
    "b. return_book(self): Increments the available copies by one when a book is\n",
    "returned.\n",
    "c. display_book_info(self): Displays the information about the book, including its\n",
    "attributes and the number of available copies."
   ]
  },
  {
   "cell_type": "code",
   "execution_count": 19,
   "id": "50afdb9a",
   "metadata": {},
   "outputs": [],
   "source": [
    "#library management system\n",
    "\n",
    "class Book:\n",
    "    def __init__(self, title, author, isbn, publication_year, available_copies):\n",
    "        self.title = title\n",
    "        self.author = author\n",
    "        self.isbn = isbn\n",
    "        self.publication_year = publication_year\n",
    "        self.available_copies = available_copies\n",
    "    \n",
    "    def check_out(self):\n",
    "        if self.available_copies>0:\n",
    "            self.available_copies = self.available_copies-1\n",
    "            print(f'Available copies of the book is: { self.available_copies}.')\n",
    "        else:\n",
    "            print('There are no copies available')\n",
    "            \n",
    "    def return_book(self):\n",
    "        self.available_copies = self.available_copies+1\n",
    "        print(f'Available copies of the book is: { self.available_copies}.')\n",
    "        \n",
    "    def display_book_info(self):\n",
    "        print(f'The title of the book is: {self.title}.')\n",
    "        print(f'The author of the book is: {self.author}.')\n",
    "        print(f'The isbn of the book is: {self.isbn}.')\n",
    "        print(f'The publication year of the book is: {self.publication_year}.')\n",
    "        print(f'Available copies of the book is: { self.available_copies}.')"
   ]
  },
  {
   "cell_type": "code",
   "execution_count": 20,
   "id": "0795c5b7",
   "metadata": {},
   "outputs": [
    {
     "name": "stdout",
     "output_type": "stream",
     "text": [
      "The title of the book is: The Hobbit.\n",
      "The author of the book is: J. R. R. Tolkien.\n",
      "The isbn of the book is: 9780044403371.\n",
      "The publication year of the book is: 1937.\n",
      "Available copies of the book is: 20.\n"
     ]
    }
   ],
   "source": [
    "Book1 = Book('The Hobbit', 'J. R. R. Tolkien', 9780044403371, 1937, 20)\n",
    "Book1.display_book_info()"
   ]
  },
  {
   "cell_type": "code",
   "execution_count": 21,
   "id": "44c5d3ce",
   "metadata": {},
   "outputs": [
    {
     "name": "stdout",
     "output_type": "stream",
     "text": [
      "Available copies of the book is: 19.\n"
     ]
    }
   ],
   "source": [
    "Book1.check_out()"
   ]
  },
  {
   "cell_type": "code",
   "execution_count": 22,
   "id": "a905ba2b",
   "metadata": {},
   "outputs": [
    {
     "name": "stdout",
     "output_type": "stream",
     "text": [
      "Available copies of the book is: 20.\n"
     ]
    }
   ],
   "source": [
    "Book1.return_book()"
   ]
  },
  {
   "cell_type": "code",
   "execution_count": null,
   "id": "4ec5fda2",
   "metadata": {},
   "outputs": [],
   "source": []
  },
  {
   "cell_type": "raw",
   "id": "6e8b58bb",
   "metadata": {},
   "source": [
    "8.For a ticket booking system, you have to design the \"Ticket\" class with OOP\n",
    "principles in mind. The “Ticket” class should have the following attributes:\n",
    "a. ticket_id: Represents the unique identifier for the ticket.\n",
    "b. event_name: Represents the name of the event.\n",
    "c. event_date: Represents the date of the event.\n",
    "d. venue: Represents the venue of the event.\n",
    "e. seat_number: Represents the seat number associated with the ticket.\n",
    "f. price: Represents the price of the ticket.\n",
    "g. is_reserved: Represents the reservation status of the ticket.\n",
    "\n",
    "The class also includes the following methods:\n",
    "a. reserve_ticket(self): Marks the ticket as reserved if it is not already reserved.\n",
    "b. cancel_reservation(self): Cancels the reservation of the ticket if it is already\n",
    "reserved.\n",
    "c. display_ticket_info(self): Displays the information about the ticket, including its\n",
    "attributes and reservation status."
   ]
  },
  {
   "cell_type": "code",
   "execution_count": 106,
   "id": "1f742c02",
   "metadata": {},
   "outputs": [],
   "source": [
    "class Ticket:\n",
    "    def __init__(self,ticket_id, event_name, event_date, venue, seat_number, price, is_reserved):\n",
    "        self.ticket_id = ticket_id\n",
    "        self.event_name = event_name\n",
    "        self.event_date = event_date\n",
    "        self.venue = venue\n",
    "        self.seat_number = seat_number\n",
    "        self.price = price\n",
    "        self.is_reserved = is_reserved\n",
    "        \n",
    "    def reserve_ticket(self):\n",
    "        if self.is_reserved == 'not reserved':\n",
    "            self.is_reserved = 'reserved'\n",
    "            print('Ticket is now reserved')\n",
    "        else:\n",
    "            print('Ticket is already reserved')\n",
    "            \n",
    "    def cancel_reservation(self):\n",
    "        if self.is_reserved == 'reserved':\n",
    "            self.is_reserved = 'not reserved'\n",
    "            print('Your ticket reservation is canceled')\n",
    "        else:\n",
    "            print('Ticket is not reserved')\n",
    "            \n",
    "    def display_ticket_info(self):\n",
    "        print(f'Your ticket id is: {self.ticket_id}')\n",
    "        print(f'Event name is: {self.event_name}')\n",
    "        print(f'Event date is: {self.event_date}')\n",
    "        print(f'Venue is: {self.venue}')\n",
    "        print(f'Your seat number is: {self.seat_number}')\n",
    "        print(f'Price of the ticket is: {self.price}')\n",
    "        print(f'Your ticket is: {self.is_reserved}')"
   ]
  },
  {
   "cell_type": "code",
   "execution_count": 107,
   "id": "08064b6f",
   "metadata": {},
   "outputs": [
    {
     "name": "stdout",
     "output_type": "stream",
     "text": [
      "Your ticket id is: 123\n",
      "Event name is: New year\n",
      "Event date is: 31dec2023\n",
      "Venue is: Abc resort\n",
      "Your seat number is: 123\n",
      "Price of the ticket is: 1000\n",
      "Your ticket is: not reserved\n"
     ]
    }
   ],
   "source": [
    "Ticket1 = Ticket(123, 'New year', '31dec2023', 'Abc resort', 123, 1000, 'not reserved')\n",
    "Ticket1.display_ticket_info()"
   ]
  },
  {
   "cell_type": "code",
   "execution_count": 108,
   "id": "033d4cd4",
   "metadata": {},
   "outputs": [
    {
     "name": "stdout",
     "output_type": "stream",
     "text": [
      "Ticket is now reserved\n"
     ]
    }
   ],
   "source": [
    "Ticket1.reserve_ticket()"
   ]
  },
  {
   "cell_type": "code",
   "execution_count": 109,
   "id": "98ad83cb",
   "metadata": {},
   "outputs": [
    {
     "name": "stdout",
     "output_type": "stream",
     "text": [
      "Your ticket reservation is canceled\n"
     ]
    }
   ],
   "source": [
    "Ticket1.cancel_reservation()"
   ]
  },
  {
   "cell_type": "code",
   "execution_count": 110,
   "id": "91e19bae",
   "metadata": {},
   "outputs": [
    {
     "name": "stdout",
     "output_type": "stream",
     "text": [
      "Your ticket id is: 123\n",
      "Event name is: New year\n",
      "Event date is: 31dec2023\n",
      "Venue is: Abc resort\n",
      "Your seat number is: 123\n",
      "Price of the ticket is: 1000\n",
      "Your ticket is: not reserved\n"
     ]
    }
   ],
   "source": [
    "Ticket1.display_ticket_info()"
   ]
  },
  {
   "cell_type": "code",
   "execution_count": null,
   "id": "97d80db7",
   "metadata": {},
   "outputs": [],
   "source": []
  },
  {
   "cell_type": "raw",
   "id": "568909b5",
   "metadata": {},
   "source": [
    "9.You are creating a shopping cart for an e-commerce website. Using OOP to model\n",
    "the \"ShoppingCart\" functionality the class should contain following attributes and\n",
    "methods:\n",
    "a. items: Represents the list of items in the shopping cart.\n",
    "\n",
    "The class also includes the following methods:\n",
    "\n",
    "a. add_item(self, item): Adds an item to the shopping cart by appending it to the\n",
    "list of items.\n",
    "b. remove_item(self, item): Removes an item from the shopping cart if it exists in\n",
    "the list.\n",
    "c. view_cart(self): Displays the items currently present in the shopping cart.\n",
    "d. clear_cart(self): Clears all items from the shopping cart by reassigning an\n",
    "empty list to the items attribute."
   ]
  },
  {
   "cell_type": "code",
   "execution_count": 48,
   "id": "b9bde59c",
   "metadata": {},
   "outputs": [],
   "source": [
    "class ShoppingCart:\n",
    "    def __init__(self):\n",
    "        self.items = []\n",
    "        \n",
    "    def add_item(self, item):\n",
    "        self.items.append(item)\n",
    "        print(self.items)\n",
    "        \n",
    "    def remove_item(self, item):\n",
    "        if item in self.items:\n",
    "            self.items.remove(item)\n",
    "            print(f'{item} is removed')\n",
    "        else:\n",
    "            print('item not present in shooping cart')\n",
    "            \n",
    "    def view_cart(self):\n",
    "        for item in self.items:\n",
    "            print(item)\n",
    "        \n",
    "    def clear_cart(self):\n",
    "        self.items.clear()\n",
    "        print(self.items)\n",
    "            \n",
    "        "
   ]
  },
  {
   "cell_type": "code",
   "execution_count": 49,
   "id": "4b68bd35",
   "metadata": {},
   "outputs": [],
   "source": [
    "ShoppingCart1 =  ShoppingCart()\n",
    "ShoppingCart1.view_cart()"
   ]
  },
  {
   "cell_type": "code",
   "execution_count": 50,
   "id": "9b70673c",
   "metadata": {},
   "outputs": [
    {
     "name": "stdout",
     "output_type": "stream",
     "text": [
      "['banana']\n"
     ]
    }
   ],
   "source": [
    "ShoppingCart1.add_item('banana')"
   ]
  },
  {
   "cell_type": "code",
   "execution_count": 51,
   "id": "6fc6594a",
   "metadata": {},
   "outputs": [
    {
     "name": "stdout",
     "output_type": "stream",
     "text": [
      "['banana', 'apple']\n",
      "['banana', 'apple', 'cashews']\n",
      "['banana', 'apple', 'cashews', 'almonds']\n"
     ]
    }
   ],
   "source": [
    "ShoppingCart1.add_item('apple')\n",
    "ShoppingCart1.add_item('cashews')\n",
    "ShoppingCart1.add_item('almonds')"
   ]
  },
  {
   "cell_type": "code",
   "execution_count": 52,
   "id": "d936d99d",
   "metadata": {},
   "outputs": [
    {
     "name": "stdout",
     "output_type": "stream",
     "text": [
      "banana\n",
      "apple\n",
      "cashews\n",
      "almonds\n"
     ]
    }
   ],
   "source": [
    "ShoppingCart1.view_cart()"
   ]
  },
  {
   "cell_type": "code",
   "execution_count": 53,
   "id": "b9a907a0",
   "metadata": {},
   "outputs": [
    {
     "name": "stdout",
     "output_type": "stream",
     "text": [
      "apple is removed\n"
     ]
    }
   ],
   "source": [
    "ShoppingCart1.remove_item('apple')"
   ]
  },
  {
   "cell_type": "code",
   "execution_count": 54,
   "id": "0e8aa1f4",
   "metadata": {},
   "outputs": [
    {
     "name": "stdout",
     "output_type": "stream",
     "text": [
      "[]\n"
     ]
    }
   ],
   "source": [
    "ShoppingCart1.clear_cart()"
   ]
  },
  {
   "cell_type": "code",
   "execution_count": null,
   "id": "1337c7ec",
   "metadata": {},
   "outputs": [],
   "source": []
  },
  {
   "cell_type": "raw",
   "id": "457f3dce",
   "metadata": {},
   "source": [
    "10.Imagine a school management system. You have to design the \"Student\" class using\n",
    "OOP concepts.The “Student” class has the following attributes:\n",
    "a. name: Represents the name of the student.\n",
    "b. age: Represents the age of the student.\n",
    "c. grade: Represents the grade or class of the student.\n",
    "d. student_id: Represents the unique identifier for the student.\n",
    "e. attendance: Represents the attendance record of the student.\n",
    "\n",
    "The class should also include the following methods:\n",
    "\n",
    "a. update_attendance(self, date, status): Updates the attendance record of the\n",
    "student for a given date with the provided status (e.g., present or absent).\n",
    "b. get_attendance(self): Returns the attendance record of the student.\n",
    "c. get_average_attendance(self): Calculates and returns the average\n",
    "attendance percentage of the student based on their attendance record."
   ]
  },
  {
   "cell_type": "code",
   "execution_count": 42,
   "id": "92d00156",
   "metadata": {},
   "outputs": [],
   "source": [
    "class Student:\n",
    "    def __init__(self, name, age, grade, student_id):\n",
    "        self.name = name\n",
    "        self.age = age\n",
    "        self.grade = grade\n",
    "        self.student_id = student_id\n",
    "        self.attendance = {}\n",
    "        \n",
    "        \n",
    "    def update_attendance(self, date, status):\n",
    "        self.attendance[date] = status\n",
    "        \n",
    "    def get_attendance(self):\n",
    "        return self.attendance\n",
    "        \n",
    "    def get_average_attendance(self):\n",
    "        present_days = 0\n",
    "        for status in self.attendance.values():\n",
    "            if status == 'present':\n",
    "                present_days = present_days+1\n",
    "            else:\n",
    "                continue\n",
    "                \n",
    "        total_days = len(self.attendance)\n",
    "        average_attendance = (present_days/total_days)*100\n",
    "        return average_attendance"
   ]
  },
  {
   "cell_type": "code",
   "execution_count": 43,
   "id": "884ea72d",
   "metadata": {},
   "outputs": [],
   "source": [
    "Student1 = Student('John', 18, 'A', 123)\n",
    "Student1.update_attendance('10-07-2023', 'present')\n",
    "Student1.update_attendance('09-07-2023', 'absent')\n",
    "Student1.update_attendance('08-07-2023', 'present')\n",
    "Student1.update_attendance('07-07-2023', 'present')"
   ]
  },
  {
   "cell_type": "code",
   "execution_count": 44,
   "id": "6f5582c8",
   "metadata": {},
   "outputs": [
    {
     "data": {
      "text/plain": [
       "75.0"
      ]
     },
     "execution_count": 44,
     "metadata": {},
     "output_type": "execute_result"
    }
   ],
   "source": [
    "Student1.get_average_attendance()"
   ]
  },
  {
   "cell_type": "code",
   "execution_count": 46,
   "id": "2b052d65",
   "metadata": {},
   "outputs": [
    {
     "name": "stdout",
     "output_type": "stream",
     "text": [
      "{'10-07-2023': 'present', '09-07-2023': 'absent', '08-07-2023': 'present', '07-07-2023': 'present'}\n"
     ]
    }
   ],
   "source": [
    "print(Student1.get_attendance())"
   ]
  },
  {
   "cell_type": "code",
   "execution_count": null,
   "id": "1193b170",
   "metadata": {},
   "outputs": [],
   "source": []
  }
 ],
 "metadata": {
  "kernelspec": {
   "display_name": "Python 3 (ipykernel)",
   "language": "python",
   "name": "python3"
  },
  "language_info": {
   "codemirror_mode": {
    "name": "ipython",
    "version": 3
   },
   "file_extension": ".py",
   "mimetype": "text/x-python",
   "name": "python",
   "nbconvert_exporter": "python",
   "pygments_lexer": "ipython3",
   "version": "3.10.9"
  }
 },
 "nbformat": 4,
 "nbformat_minor": 5
}
